{
 "cells": [
  {
   "cell_type": "code",
   "execution_count": 1,
   "id": "7cbc21e7",
   "metadata": {},
   "outputs": [],
   "source": [
    "import os\n",
    "os.chdir('E:\\\\germany\\\\all work directory')"
   ]
  },
  {
   "cell_type": "markdown",
   "id": "0b0deaf1",
   "metadata": {},
   "source": [
    "## 1.Write a Python Program to find sum of array?\n",
    "## Answer :"
   ]
  },
  {
   "cell_type": "code",
   "execution_count": 4,
   "id": "16aa62ee",
   "metadata": {},
   "outputs": [
    {
     "name": "stdout",
     "output_type": "stream",
     "text": [
      "Enter the Array: 25,25,25,25\n",
      "The sum of [25, 25, 25, 25] is 100\n"
     ]
    }
   ],
   "source": [
    "def Sum_of_Array():\n",
    "    x = eval(input(\"Enter the Array: \"))\n",
    "    print(f'The sum of {list(x)} is {sum(x)}')\n",
    "\n",
    "Sum_of_Array()"
   ]
  },
  {
   "cell_type": "markdown",
   "id": "49b5ddc2",
   "metadata": {},
   "source": [
    "## 2.Write a Python Program to find largest element in an array?\n",
    "## Answer :"
   ]
  },
  {
   "cell_type": "code",
   "execution_count": 5,
   "id": "e648a1f4",
   "metadata": {},
   "outputs": [
    {
     "name": "stdout",
     "output_type": "stream",
     "text": [
      "enter array for findng largest of it : 25,24,20,2000,10259\n",
      "Largest number from [25, 24, 20, 2000, 10259] is 10259\n"
     ]
    }
   ],
   "source": [
    "def lar_array():\n",
    "    x = eval(input(\"enter array for findng largest of it : \"))\n",
    "    largest = 0\n",
    "    for i in list(x):\n",
    "        if i>largest:\n",
    "            largest = i\n",
    "    print(f\"Largest number from {list(x)} is {largest}\")\n",
    "lar_array()"
   ]
  },
  {
   "cell_type": "markdown",
   "id": "be8ced04",
   "metadata": {},
   "source": [
    "## 3.Write a Python Program for array rotation\n",
    "## Answer :"
   ]
  },
  {
   "cell_type": "code",
   "execution_count": 15,
   "id": "df7e1a1c",
   "metadata": {},
   "outputs": [
    {
     "name": "stdout",
     "output_type": "stream",
     "text": [
      "enter array for findng largest of it : 25,125,100,45,789,99\n",
      "Array [25, 125, 100, 45, 789, 99] after rotation [99, 789, 45, 100, 125, 25]\n"
     ]
    }
   ],
   "source": [
    "l = []\n",
    "def rotation():\n",
    "    x = eval(input(\"enter array for findng largest of it : \"))\n",
    "    print(f\"Array {list(x)} after rotation {list(x[::-1])}\")\n",
    "rotation()\n"
   ]
  },
  {
   "cell_type": "markdown",
   "id": "2720d2e6",
   "metadata": {},
   "source": [
    "## 4.Write a Python Program to Split the array and add the first part to the end?\n",
    "## Answer :"
   ]
  },
  {
   "cell_type": "code",
   "execution_count": 31,
   "id": "32baa4cb",
   "metadata": {},
   "outputs": [
    {
     "name": "stdout",
     "output_type": "stream",
     "text": [
      "enter a split point in the form of index number : 4\n",
      "enter a array for split and add first part at the last : 1,2,3,4,5,6,7,8,9,10\n",
      "[5, 6, 7, 8, 9, 10, 1, 2, 3, 4]\n"
     ]
    }
   ],
   "source": [
    "def split_array():\n",
    "    \n",
    "    s = int(input(\"enter a split point in the form of index number : \"))\n",
    "    l = eval(input(\"enter a array for split and add first part at the last : \"))\n",
    "\n",
    "    d = list(l)[s:len(l):1] + list(l)[0:s:1]\n",
    "    print(d)\n",
    "    \n",
    "    \n",
    "split_array()"
   ]
  },
  {
   "cell_type": "markdown",
   "id": "dc72a2d9",
   "metadata": {},
   "source": [
    "## 5.Write a Python Program to check if given array is Monotonic?\n",
    "## Answer :\n",
    "    To check whether an array A is monotone increasing, we’ll check A[i] <= A[i+1] for all i indexing from 0 to len(A)-1.       Similarly we can check for monotone decreasing where A[i] >= A[i+1] for all i indexing from 0 to len(A)-1."
   ]
  },
  {
   "cell_type": "code",
   "execution_count": 2,
   "id": "205e2cac",
   "metadata": {},
   "outputs": [
    {
     "data": {
      "text/plain": [
       "True"
      ]
     },
     "execution_count": 2,
     "metadata": {},
     "output_type": "execute_result"
    }
   ],
   "source": [
    "def monotonic(l):\n",
    "    \n",
    "    return (all(l[i] <= l[i+1] for i in range(len(l)-1)) or \n",
    "           all(l[i] >= l[i+1] for i in range(len(l)-1)))\n",
    "l = [1,2,3,4,5,6,7]\n",
    "monotonic(l)"
   ]
  },
  {
   "cell_type": "code",
   "execution_count": null,
   "id": "fc5cd43a",
   "metadata": {},
   "outputs": [],
   "source": []
  }
 ],
 "metadata": {
  "kernelspec": {
   "display_name": "Python 3 (ipykernel)",
   "language": "python",
   "name": "python3"
  },
  "language_info": {
   "codemirror_mode": {
    "name": "ipython",
    "version": 3
   },
   "file_extension": ".py",
   "mimetype": "text/x-python",
   "name": "python",
   "nbconvert_exporter": "python",
   "pygments_lexer": "ipython3",
   "version": "3.9.7"
  }
 },
 "nbformat": 4,
 "nbformat_minor": 5
}
