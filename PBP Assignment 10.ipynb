{
 "cells": [
  {
   "cell_type": "code",
   "execution_count": 1,
   "id": "eed64127",
   "metadata": {},
   "outputs": [],
   "source": [
    "import os\n",
    "os.chdir('E:\\\\germany\\\\all work directory')"
   ]
  },
  {
   "cell_type": "code",
   "execution_count": 2,
   "id": "95655733",
   "metadata": {},
   "outputs": [
    {
     "name": "stdout",
     "output_type": "stream",
     "text": [
      "Enter the array for program : 1,2,3,4,5,6,7,8,9,10\n"
     ]
    }
   ],
   "source": [
    "l = list(eval(input(\"Enter the array for program : \")))"
   ]
  },
  {
   "cell_type": "markdown",
   "id": "36463718",
   "metadata": {},
   "source": [
    "## 1.Write a Python program to find sum of elements in list?\n",
    "## Answer :"
   ]
  },
  {
   "cell_type": "code",
   "execution_count": 4,
   "id": "4cf837a2",
   "metadata": {},
   "outputs": [
    {
     "name": "stdout",
     "output_type": "stream",
     "text": [
      "enter sum of all elemnts in list : 45\n"
     ]
    }
   ],
   "source": [
    "def sum_():\n",
    "    s = 0\n",
    "    for i in range(len(l)):\n",
    "        s = s + i\n",
    "    print(f\"enter sum of all elemnts in list : {s}\")\n",
    "sum_()"
   ]
  },
  {
   "cell_type": "markdown",
   "id": "245d77b3",
   "metadata": {},
   "source": [
    "## 2.Write a Python program to  Multiply all numbers in the list?\n",
    "## Answer :"
   ]
  },
  {
   "cell_type": "code",
   "execution_count": 9,
   "id": "21754d36",
   "metadata": {},
   "outputs": [
    {
     "name": "stdout",
     "output_type": "stream",
     "text": [
      "Multiplication of all number in [1, 2, 3, 4, 5, 6, 7, 8, 9, 10] is 3628800\n"
     ]
    }
   ],
   "source": [
    "def mul(x):\n",
    "    mult = 1\n",
    "    for i in x:\n",
    "        mult = mult*i\n",
    "    print(f\"Multiplication of all number in {x} is {mult}\")\n",
    "mul(l)"
   ]
  },
  {
   "cell_type": "markdown",
   "id": "a8ea8446",
   "metadata": {},
   "source": [
    "## 3.Write a Python program to find smallest number in a list?\n",
    "## Answer :"
   ]
  },
  {
   "cell_type": "code",
   "execution_count": 10,
   "id": "253a4fae",
   "metadata": {},
   "outputs": [
    {
     "name": "stdout",
     "output_type": "stream",
     "text": [
      "Smallest number in [1, 2, 3, 4, 5, 6, 7, 8, 9, 10] is 1\n"
     ]
    }
   ],
   "source": [
    "def small(x):\n",
    "    s = x[0]\n",
    "    for i in x:\n",
    "        if i<s:\n",
    "            s = i\n",
    "    print(f\"Smallest number in {x} is {s}\")\n",
    "small(l)"
   ]
  },
  {
   "cell_type": "markdown",
   "id": "23cb5715",
   "metadata": {},
   "source": [
    "## 4.Write a Python program to find largest number in a list?\n",
    "## Answer :"
   ]
  },
  {
   "cell_type": "code",
   "execution_count": 14,
   "id": "5cab1f7b",
   "metadata": {},
   "outputs": [
    {
     "name": "stdout",
     "output_type": "stream",
     "text": [
      "Largest number in [1, 2, 3, 4, 5, 6, 7, 8, 9, 10] is 10\n"
     ]
    }
   ],
   "source": [
    "def lar(x):\n",
    "    s = x[0]\n",
    "    for i in x:\n",
    "        if i>s:\n",
    "            s = i\n",
    "    print(f\"Largest number in {x} is {s}\")\n",
    "lar(l)"
   ]
  },
  {
   "cell_type": "markdown",
   "id": "ff73fa53",
   "metadata": {},
   "source": [
    "## 5.Write a Python program to find second largest number in a list?\n",
    "## Answer :"
   ]
  },
  {
   "cell_type": "code",
   "execution_count": 7,
   "id": "23a732e9",
   "metadata": {},
   "outputs": [
    {
     "name": "stdout",
     "output_type": "stream",
     "text": [
      "Second Largest Number from [1, 2, 3, 5, 6, 7, 8, 9, 10] : 9\n"
     ]
    }
   ],
   "source": [
    "def sec_lar():\n",
    "    max_1 = max(l[0],l[1])\n",
    "    max_2 = min(l[0],l[1])\n",
    "    n = len(l) \n",
    "    \n",
    "    for i in range(2,n):\n",
    "        if l[i] > max_1:\n",
    "            max_2 = max_1\n",
    "            max_1 = l[i]\n",
    "        elif l[i] > max_2 and max_1 != l[i]:\n",
    "            max_2 = l[i]\n",
    "    print(\"Second Largest Number from {} : {}\".format(l,max_2)) \n",
    "sec_lar()\n",
    "        "
   ]
  },
  {
   "cell_type": "markdown",
   "id": "f922b305",
   "metadata": {},
   "source": [
    "## 6.Write a Python program to find N largest elements from a list?\n",
    "## Answer :"
   ]
  },
  {
   "cell_type": "code",
   "execution_count": 18,
   "id": "7d74f5e4",
   "metadata": {},
   "outputs": [
    {
     "name": "stdout",
     "output_type": "stream",
     "text": [
      "Enter how many largest numer you want from [1, 2, 3, 4, 5, 6, 7, 8, 9, 10] : 5\n",
      "5 Largest number from [1, 2, 3, 4, 5, 6, 7, 8, 9, 10] are [10, 9, 8, 7, 6]\n"
     ]
    }
   ],
   "source": [
    "def N_list(lis,N):\n",
    "    final_lis = []\n",
    "    \n",
    "    for i in range(N):\n",
    "        mx = 0\n",
    "        \n",
    "        for j in range(len(lis)):\n",
    "            if lis[j] > mx:\n",
    "                mx = lis[j]\n",
    "                \n",
    "        lis.remove(mx)\n",
    "        final_lis.append(mx)\n",
    "        \n",
    "    print(\"{} Largest number from {} are {}\".format(N,l,final_lis))\n",
    "    \n",
    "lis = l.copy()\n",
    "N = int(input(\"Enter how many largest numer you want from {} : \".format(lis)))\n",
    "N_list(lis,N)"
   ]
  },
  {
   "cell_type": "markdown",
   "id": "3e5f222c",
   "metadata": {},
   "source": [
    "## 7.Write a Python program to print even numbers in a list?\n",
    "## Answer :"
   ]
  },
  {
   "cell_type": "code",
   "execution_count": 20,
   "id": "d3cfd500",
   "metadata": {},
   "outputs": [
    {
     "name": "stdout",
     "output_type": "stream",
     "text": [
      "Even number from [1, 2, 3, 4, 5, 6, 7, 8, 9, 10] is [2, 4, 6, 8, 10]\n"
     ]
    }
   ],
   "source": [
    "def even(ele):\n",
    "    new_l = []\n",
    "    for i in range(len(ele)):\n",
    "        if ele[i]%2 == 0:\n",
    "            new_l.append(ele[i])\n",
    "    print(\"Even number from {} is {}\".format(ele,new_l))\n",
    "ele = l.copy()\n",
    "even(ele)\n"
   ]
  },
  {
   "cell_type": "markdown",
   "id": "ba356b8a",
   "metadata": {},
   "source": [
    "## 8.Write a Python program to print odd numbers in a List?\n",
    "## Answer :"
   ]
  },
  {
   "cell_type": "code",
   "execution_count": 21,
   "id": "77dfecea",
   "metadata": {},
   "outputs": [
    {
     "name": "stdout",
     "output_type": "stream",
     "text": [
      "Even number from [1, 2, 3, 4, 5, 6, 7, 8, 9, 10] is [1, 3, 5, 7, 9]\n"
     ]
    }
   ],
   "source": [
    "def odd(ele):\n",
    "    new_l = []\n",
    "    for i in range(len(ele)):\n",
    "        if ele[i]%2 != 0:\n",
    "            new_l.append(ele[i])\n",
    "    print(\"Even number from {} is {}\".format(ele,new_l))\n",
    "ele = l.copy()\n",
    "odd(ele)\n"
   ]
  },
  {
   "cell_type": "markdown",
   "id": "7a59b25e",
   "metadata": {},
   "source": [
    "## 9.Write a Python program to Remove empty List from List?\n",
    "## Answer :"
   ]
  },
  {
   "cell_type": "code",
   "execution_count": 28,
   "id": "e698a9f2",
   "metadata": {},
   "outputs": [
    {
     "name": "stdout",
     "output_type": "stream",
     "text": [
      "Enter a elments of list and add empty list also : 1,2,4,[],5,69,[],25\n",
      "After removing empty list from [1, 2, 4, [], 5, 69, [], 25] is [1, 2, 4, 5, 69, 25]\n"
     ]
    }
   ],
   "source": [
    "new_l = eval(input(\"Enter a elments of list and add empty list also : \")) \n",
    "new_ll = list(new_l)\n",
    "\n",
    "def empty(new_ll):\n",
    "    after_empty = [i for i in new_ll if i != []]\n",
    "    print(f\"After removing empty list from {new_ll} is {after_empty}\")\n",
    "empty(new_ll)\n"
   ]
  },
  {
   "cell_type": "markdown",
   "id": "a2738a2e",
   "metadata": {},
   "source": [
    "## 10.Write a Python program to Cloning or Copying a list?\n",
    "## Answer :"
   ]
  },
  {
   "cell_type": "code",
   "execution_count": 29,
   "id": "a8454a6a",
   "metadata": {},
   "outputs": [
    {
     "name": "stdout",
     "output_type": "stream",
     "text": [
      "Copy of [1, 2, 3, 4, 5, 6, 7, 8, 9, 10] is [1, 2, 3, 4, 5, 6, 7, 8, 9, 10]\n"
     ]
    }
   ],
   "source": [
    "def copy(ele) :\n",
    "    res = [i for i in ele]\n",
    "    print(f\"Copy of {ele} is {res}\")\n",
    "\n",
    "ele = l.copy()\n",
    "copy(ele)"
   ]
  },
  {
   "cell_type": "markdown",
   "id": "c7975f95",
   "metadata": {},
   "source": [
    "## 11.Write a Python program to Count occurrences of an element in a list?\n",
    "## Answer :"
   ]
  },
  {
   "cell_type": "code",
   "execution_count": 36,
   "id": "56a7cc76",
   "metadata": {},
   "outputs": [
    {
     "name": "stdout",
     "output_type": "stream",
     "text": [
      "Emter the list element1,1,2,2,5,1,52,52,4,5,2,1,2,3,3,6,3,3,3,5,3,3,3,1\n",
      "enter element for finding occurrences in list : 3\n",
      "Total number of occurrence of 3 in [1, 1, 2, 2, 5, 1, 52, 52, 4, 5, 2, 1, 2, 3, 3, 6, 3, 3, 3, 5, 3, 3, 3, 1] is 8\n"
     ]
    }
   ],
   "source": [
    "l = list(eval(input(\"Emter the list element\")))\n",
    "def count(ele):\n",
    "    n = int(input(\"enter element for finding occurrences in list : \"))\n",
    "    c = 0\n",
    "    for i in ele:\n",
    "        if i == n:\n",
    "            c = c + 1\n",
    "    print(f\"Total number of occurrence of {n} in {ele} is {c}\")\n",
    "ele = l.copy()\n",
    "count(ele)"
   ]
  }
 ],
 "metadata": {
  "kernelspec": {
   "display_name": "Python 3 (ipykernel)",
   "language": "python",
   "name": "python3"
  },
  "language_info": {
   "codemirror_mode": {
    "name": "ipython",
    "version": 3
   },
   "file_extension": ".py",
   "mimetype": "text/x-python",
   "name": "python",
   "nbconvert_exporter": "python",
   "pygments_lexer": "ipython3",
   "version": "3.9.7"
  }
 },
 "nbformat": 4,
 "nbformat_minor": 5
}
