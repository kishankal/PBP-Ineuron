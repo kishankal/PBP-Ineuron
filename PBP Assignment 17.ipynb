{
 "cells": [
  {
   "cell_type": "markdown",
   "id": "e59fc370",
   "metadata": {},
   "source": [
    "\n",
    "## 1.Create a function that takes three arguments a, b, c and returns the sum of the numbers that are evenly divided by c from the range a, b inclusive ?\n",
    "    Examples:\n",
    "    `evenly_divisible(1, 10, 20) ➞ 0\n",
    "\n",
    "# No number between 1 and 10 can be evenly divided by 20.\n",
    "    evenly_divisible(1, 10, 2) ➞ 30\n",
    "\n",
    "# 2 + 4 + 6 + 8 + 10 = 30\n",
    "    evenly_divisible(1, 10, 3) ➞ 18\n",
    "\n",
    "# 3 + 6 + 9 = 18`"
   ]
  },
  {
   "cell_type": "code",
   "execution_count": 6,
   "id": "5e6cf2e6",
   "metadata": {},
   "outputs": [
    {
     "name": "stdout",
     "output_type": "stream",
     "text": [
      "enter a value : 1\n",
      "enter a value : 10\n",
      "enter a value : 20\n",
      "No number between 1 and 10 can be evenly divided by 20.\n",
      "enter a value : 1\n",
      "enter a value : 20\n",
      "enter a value : 10\n",
      "evenly_divisible(1,20,10) → 30\n",
      "enter a value : 1\n",
      "enter a value : 10\n",
      "enter a value : 3\n",
      "evenly_divisible(1,10,3) → 18\n"
     ]
    }
   ],
   "source": [
    "def cal(a,b,c):\n",
    "    a = int(input(\"enter a value : \"))\n",
    "    b = int(input(\"enter a value : \"))\n",
    "    c = int(input(\"enter a value : \"))\n",
    "    sum_ = 0\n",
    "    for i in range(a,b+1):\n",
    "        if i%c == 0:\n",
    "            sum_ += i\n",
    "    if sum_ !=0:\n",
    "        print(f\"evenly_divisible({a},{b},{c}) → {sum_}\")\n",
    "    else:\n",
    "        print(f\"No number between {a} and {b} can be evenly divided by {c}.\")\n",
    "\n",
    "for i in range(3):\n",
    "    cal(a,b,c)"
   ]
  },
  {
   "cell_type": "markdown",
   "id": "7c4eb311",
   "metadata": {},
   "source": [
    "## 2.Create a function that returns True if a given inequality expression is correct and False otherwise ?\n",
    "    Examples:\n",
    "    correct_signs(\"3 < 7 < 11\") ➞ True\n",
    "    correct_signs(\"13 > 44 > 33 > 1\") ➞ False\n",
    "    correct_signs(\"1 < 2 < 6 < 9 > 3\") ➞ True"
   ]
  },
  {
   "cell_type": "code",
   "execution_count": 7,
   "id": "779647a3",
   "metadata": {},
   "outputs": [
    {
     "name": "stdout",
     "output_type": "stream",
     "text": [
      "enter a string : 3 < 7 < 11\n",
      "3 < 7 < 11 → True\n",
      "enter a string : 13 > 44 > 33 > 1\n",
      "13 > 44 > 33 > 1 → False\n",
      "enter a string : 1 < 2 < 6 < 9 > 3\n",
      "1 < 2 < 6 < 9 > 3 → True\n"
     ]
    }
   ],
   "source": [
    "def check():\n",
    "    s = input(\"enter a string : \")\n",
    "    out = eval(s)\n",
    "    print(f\"{s} → {out}\")\n",
    "for i in range(3):\n",
    "    check()"
   ]
  },
  {
   "cell_type": "markdown",
   "id": "070f90f5",
   "metadata": {},
   "source": [
    "## 3.Create a function that replaces all the vowels in a string with a specified character ?\n",
    "    Examples:\n",
    "    replace_vowels(\"the aardvark\", \"#\") ➞ \"th# ##rdv#rk\"\n",
    "    replace_vowels(\"minnie mouse\", \"?\") ➞ \"m?nn?? m??s?\"\n",
    "    replace_vowels(\"shakespeare\", \"*\") ➞ \"shksp**r\""
   ]
  },
  {
   "cell_type": "code",
   "execution_count": 21,
   "id": "bf24c724",
   "metadata": {},
   "outputs": [
    {
     "name": "stdout",
     "output_type": "stream",
     "text": [
      "enter a string : the aardvark\n",
      "enter a replaceable character : #\n",
      "replace_vowels(\"the aardvark\", \"#\") → th# ##rdv#rk\n",
      "enter a string : minnie mouse\n",
      "enter a replaceable character : ?\n",
      "replace_vowels(\"minnie mouse\", \"?\") → m?nn?? m??s?\n",
      "enter a string : shakespeare\n",
      "enter a replaceable character : *\n",
      "replace_vowels(\"shakespeare\", \"*\") → sh*k*sp**r*\n"
     ]
    }
   ],
   "source": [
    "def rep():\n",
    "    s = input(\"enter a string : \")\n",
    "    sp = input(\"enter a replaceable character : \")\n",
    "    s1 = s.lower()\n",
    "    for i in range(len(s1)):\n",
    "        if s1[i] in ['a','e','i','o','u']:\n",
    "            s = s.replace(s[i],sp)\n",
    "            #s[i] = sp\n",
    "    print(f'replace_vowels(\"{s1}\", \"{sp}\") → {s}')\n",
    "for i in range(3):\n",
    "    rep()\n",
    "        \n",
    "    \n",
    "    "
   ]
  },
  {
   "cell_type": "markdown",
   "id": "f9b8e511",
   "metadata": {},
   "source": [
    "## 4.Write a function that calculates the factorial of a number recursively ?\n",
    "    Examples:\n",
    "    factorial(5) ➞ 120\n",
    "    factorial(3) ➞ 6\n",
    "    factorial(1) ➞ 1\n",
    "    factorial(0) ➞ 1"
   ]
  },
  {
   "cell_type": "code",
   "execution_count": 30,
   "id": "63f4f3ac",
   "metadata": {},
   "outputs": [
    {
     "name": "stdout",
     "output_type": "stream",
     "text": [
      "factorial(5) ➞ 120\n",
      "factorial(3) ➞ 6\n",
      "factorial(1) ➞ 1\n",
      "factorial(0) ➞ 1\n"
     ]
    }
   ],
   "source": [
    "def factorial(n):\n",
    "    if n==0:\n",
    "        return 1\n",
    "    return n * factorial(n-1)\n",
    "\n",
    "print(f'factorial(5) ➞ {factorial(5)}')\n",
    "print(f'factorial(3) ➞ {factorial(3)}')\n",
    "print(f'factorial(1) ➞ {factorial(1)}')\n",
    "print(f'factorial(0) ➞ {factorial(0)}')"
   ]
  },
  {
   "cell_type": "markdown",
   "id": "7542fb87",
   "metadata": {},
   "source": [
    "## 5.Hamming distance is the number of characters that differ between two strings ?\n",
    "    To illustrate:\n",
    "    String1: \"abcbba\"\n",
    "    String2: \"abcbda\"\n",
    "    Hamming Distance: 1 - \"b\" vs. \"d\" is the only difference.\n",
    "    Create a function that computes the hamming distance between two strin"
   ]
  },
  {
   "cell_type": "code",
   "execution_count": 35,
   "id": "5fd7c25a",
   "metadata": {},
   "outputs": [
    {
     "name": "stdout",
     "output_type": "stream",
     "text": [
      "Enter a string : abcbba\n",
      "Enter a string : abcbda\n",
      "it's not a hamming number : \n",
      "it has difference at character b in abcbba and d in abcbda\n"
     ]
    }
   ],
   "source": [
    "def hamming():\n",
    "    s1 = input(\"Enter a string : \")\n",
    "    s2 = input(\"Enter a string : \")\n",
    "    \n",
    "    if len(s1) == len(s2):\n",
    "        for i in range(len(s1)):\n",
    "            if s1[i] != s2[i]:\n",
    "                count += 1\n",
    "                print(\"it's not a hamming number : \")\n",
    "                print(f\"it has difference at character {s1[i]} in {s1} and {s2[i]} in {s2}\")\n",
    "                break\n",
    "        else:\n",
    "            print(\"it's a hamming number\")\n",
    "hamming()"
   ]
  },
  {
   "cell_type": "code",
   "execution_count": null,
   "id": "2a27d6af",
   "metadata": {},
   "outputs": [],
   "source": []
  }
 ],
 "metadata": {
  "kernelspec": {
   "display_name": "Python 3 (ipykernel)",
   "language": "python",
   "name": "python3"
  },
  "language_info": {
   "codemirror_mode": {
    "name": "ipython",
    "version": 3
   },
   "file_extension": ".py",
   "mimetype": "text/x-python",
   "name": "python",
   "nbconvert_exporter": "python",
   "pygments_lexer": "ipython3",
   "version": "3.9.7"
  }
 },
 "nbformat": 4,
 "nbformat_minor": 5
}
