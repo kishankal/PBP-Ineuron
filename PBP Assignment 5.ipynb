{
 "cells": [
  {
   "cell_type": "code",
   "execution_count": 1,
   "id": "2194acba",
   "metadata": {},
   "outputs": [],
   "source": [
    "import os\n",
    "os.chdir('E:\\\\germany\\\\all work directory')"
   ]
  },
  {
   "cell_type": "markdown",
   "id": "676ef562",
   "metadata": {},
   "source": [
    "## 1.Write a Python Program to Find LCM?\n",
    "## Answer :"
   ]
  },
  {
   "cell_type": "code",
   "execution_count": 3,
   "id": "9bf9b951",
   "metadata": {},
   "outputs": [
    {
     "name": "stdout",
     "output_type": "stream",
     "text": [
      "Enter first term to find lcm of it : 20\n",
      "Enter second term to find lcm of it : 16\n",
      "Lcm of 20 and 16 is 80\n"
     ]
    }
   ],
   "source": [
    "def lcm(x,y):\n",
    "    if x>y:\n",
    "        greater = x\n",
    "    else :\n",
    "        greater = y\n",
    "    while True :\n",
    "        if greater%x == 0 and greater%y == 0:\n",
    "            LCM = greater\n",
    "            break\n",
    "        greater += 1\n",
    "    print('Lcm of {} and {} is {}'.format(x,y,greater))\n",
    "a = int(input(\"Enter first term to find lcm of it : \"))\n",
    "b = int(input(\"Enter second term to find lcm of it : \"))\n",
    "lcm(a,b)"
   ]
  },
  {
   "cell_type": "markdown",
   "id": "2293b6cb",
   "metadata": {},
   "source": [
    "## 2.Write a Python Program to Find HCF?\n",
    "## Answer :"
   ]
  },
  {
   "cell_type": "code",
   "execution_count": 4,
   "id": "09a5e8d8",
   "metadata": {},
   "outputs": [
    {
     "name": "stdout",
     "output_type": "stream",
     "text": [
      "The HCF of 6,12 is 6\n",
      "The HCF of 2,3 is 1\n",
      "The HCF of 10,23 is 1\n"
     ]
    }
   ],
   "source": [
    "\n",
    "def findTheHcf(x,y):\n",
    "    if x>y:\n",
    "        smaller = y\n",
    "    else:\n",
    "        smaller = x\n",
    "    for i in range(1,smaller+1):\n",
    "        if((x%i == 0) and (y%i == 0)):\n",
    "            hcf = i\n",
    "    print(f'The HCF of {x},{y} is {hcf}')\n",
    "\n",
    "findTheHcf(6,12)\n",
    "findTheHcf(2,3)\n",
    "findTheHcf(10,23)"
   ]
  },
  {
   "cell_type": "markdown",
   "id": "a6584e91",
   "metadata": {},
   "source": [
    "## 3.Write a Python Program to Convert Decimal to Binary, Octal and Hexadecimal?\n",
    "## Answer :"
   ]
  },
  {
   "cell_type": "code",
   "execution_count": 6,
   "id": "07405a8d",
   "metadata": {},
   "outputs": [
    {
     "name": "stdout",
     "output_type": "stream",
     "text": [
      "Enter any decimal number : 569958\n",
      "Binary of 569958 is 0b10001011001001100110\n",
      "Octal of 569958 is 0o2131146\n",
      "Hexadecimal of 569958 is 0x8b266\n"
     ]
    }
   ],
   "source": [
    "def dec_to_other():\n",
    "    x = int(input('Enter any decimal number : '))\n",
    "    \n",
    "    print('Binary of {} is {}'.format(x,bin(x)))\n",
    "    print('Octal of {} is {}'.format(x,oct(x)))\n",
    "    print('Hexadecimal of {} is {}'.format(x,hex(x)))\n",
    "dec_to_other()\n"
   ]
  },
  {
   "cell_type": "markdown",
   "id": "0b18ed05",
   "metadata": {},
   "source": [
    "## 4.Write a Python Program To Find ASCII value of a character?\n",
    "## Answer :"
   ]
  },
  {
   "cell_type": "code",
   "execution_count": 10,
   "id": "41a5e795",
   "metadata": {},
   "outputs": [
    {
     "name": "stdout",
     "output_type": "stream",
     "text": [
      "Enter a single character to find ASCII value : h\n",
      "ASCII value of h is  104\n"
     ]
    }
   ],
   "source": [
    "def ascii_value():\n",
    "    c = (input('Enter a single character to find ASCII value : '))\n",
    "    if len(c) > 1:\n",
    "        print(\"Enter single character only \")\n",
    "    else :\n",
    "        print(\"ASCII value of {} is  {}\".format(c,ord(c)))\n",
    "ascii_value()"
   ]
  },
  {
   "cell_type": "markdown",
   "id": "ea88d9f3",
   "metadata": {},
   "source": [
    "## 5.Write a Python Program to Make a Simple Calculator with 4 basic mathematical operations?\n",
    "## Answer :"
   ]
  },
  {
   "cell_type": "code",
   "execution_count": 1,
   "id": "15639d96",
   "metadata": {},
   "outputs": [
    {
     "name": "stdout",
     "output_type": "stream",
     "text": [
      "Select a Arithmetic Operation:         \n",
      "1.Addition(+)        \n",
      "2.Division(-)        \n",
      "2.Multiplication(*)        \n",
      "4.Division(/)        \n",
      "3.Stop(0)\n",
      "\n",
      "\n",
      "Enter any operator symbol for calculation\n",
      "+\n",
      "Enter first number : 50\n",
      "Enter Second number : 25\n",
      "\n",
      " 50 + 25 : 75\n",
      "\n",
      "\n",
      "Enter any operator symbol for calculation\n",
      "0\n",
      "End Successfully\n"
     ]
    }
   ],
   "source": [
    "import operator\n",
    "\n",
    "ops = {'+' : operator.add, '-' : operator.sub, '*' : operator.mul, '/' : operator.truediv}\n",
    "\n",
    "print('Select a Arithmetic Operation: \\\n",
    "        \\n1.Addition(+)\\\n",
    "        \\n2.Division(-)\\\n",
    "        \\n2.Multiplication(*)\\\n",
    "        \\n4.Division(/)\\\n",
    "        \\n3.Stop(0)\\n')\n",
    "\n",
    "\n",
    "\n",
    "while True:\n",
    "    o = input('\\nEnter any operator symbol for calculation\\n')\n",
    "    if o == '0':\n",
    "        print('End Successfully')\n",
    "        break\n",
    "    elif o not in ['+','-','*','/']:\n",
    "        print('Please Enter above mention symbol only')\n",
    "    else :\n",
    "        a = int(input('Enter first number : '))\n",
    "        b = int(input('Enter Second number : '))\n",
    "        print(f\"\\n {a} {o} {b} : {ops[o](a,b)}\\n\")   "
   ]
  },
  {
   "cell_type": "code",
   "execution_count": null,
   "id": "16569799",
   "metadata": {},
   "outputs": [],
   "source": []
  }
 ],
 "metadata": {
  "kernelspec": {
   "display_name": "Python 3 (ipykernel)",
   "language": "python",
   "name": "python3"
  },
  "language_info": {
   "codemirror_mode": {
    "name": "ipython",
    "version": 3
   },
   "file_extension": ".py",
   "mimetype": "text/x-python",
   "name": "python",
   "nbconvert_exporter": "python",
   "pygments_lexer": "ipython3",
   "version": "3.9.7"
  }
 },
 "nbformat": 4,
 "nbformat_minor": 5
}
