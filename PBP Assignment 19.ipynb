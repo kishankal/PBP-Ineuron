{
 "cells": [
  {
   "cell_type": "markdown",
   "id": "d3db9031",
   "metadata": {},
   "source": [
    "## 1.Create a function that takes a string and returns a string in which each character is repeated once.\n",
    "    Examples:\n",
    "    double_char(\"String\") ➞ \"SSttrriinngg\"\n",
    "    double_char(\"Hello World!\") ➞ \"HHeelllloo WWoorrlldd!!\"\n",
    "    doublechar(\"1234!_\") ➞ \"11223344!!__\""
   ]
  },
  {
   "cell_type": "code",
   "execution_count": 7,
   "id": "883196c8",
   "metadata": {},
   "outputs": [
    {
     "name": "stdout",
     "output_type": "stream",
     "text": [
      "String ➞ SSttrriinngg\n",
      "Hello World! ➞ HHeelllloo  WWoorrlldd!!\n",
      "1234!_ ➞ 11223344!!__\n"
     ]
    }
   ],
   "source": [
    "def double_char(in_string):\n",
    "    out_string = ''\n",
    "    for ele in in_string:\n",
    "        out_string += ele*2\n",
    "    return out_string\n",
    "\n",
    "print(f'String ➞ {double_char(\"String\")}')\n",
    "print(f'Hello World! ➞ {double_char(\"Hello World!\")}')\n",
    "print(f'1234!_ ➞ {double_char(\"1234!_\")}')\n",
    "        "
   ]
  },
  {
   "cell_type": "markdown",
   "id": "0527eba8",
   "metadata": {},
   "source": [
    "## 2.Create a function that reverses a boolean value and returns the string \"boolean expected\" if another variable type is given.\n",
    "    Examples:\n",
    "    reverse(True) ➞ False\n",
    "    reverse(False) ➞ True\n",
    "    reverse(0) ➞ \"boolean expected\"\n",
    "    reverse(None) ➞ \"boolean expected\""
   ]
  },
  {
   "cell_type": "code",
   "execution_count": 8,
   "id": "adb5020c",
   "metadata": {},
   "outputs": [
    {
     "name": "stdout",
     "output_type": "stream",
     "text": [
      "reverse(True) ➞ False\n",
      "reverse(False) ➞ True\n",
      "reverse(0) ➞ boolean expected\n",
      "reverse(None) ➞ boolean expected\n"
     ]
    }
   ],
   "source": [
    "def reverse(bo_in):\n",
    "    \n",
    "    if type(bo_in) == bool:\n",
    "        return not bo_in \n",
    "    else :\n",
    "        return \"boolean expected\"\n",
    "print(f\"reverse(True) ➞ {reverse(True)}\")\n",
    "print(f\"reverse(False) ➞ {reverse(False)}\")\n",
    "print(f\"reverse(0) ➞ {reverse(0)}\")\n",
    "print(f\"reverse(None) ➞ {reverse(None)}\")"
   ]
  },
  {
   "cell_type": "markdown",
   "id": "08f71e10",
   "metadata": {},
   "source": [
    "# 3. Create a function that returns the thickness (in meters) of a piece of paper after folding it n number of times. The paper starts off with a thickness of 0.5mm.\n",
    "    Examples:\n",
    "    \n",
    "    `num_layers(1) ➞ \"0.001m\"\n",
    "   ### Paper folded once is 1mm (equal to 0.001m)\n",
    "   \n",
    "    num_layers(4) ➞ \"0.008m\"\n",
    "   ### Paper folded 4 times is 8mm (equal to 0.008m)\n",
    "   \n",
    "    num_layers(21) ➞ \"1048.576m\"\n",
    "   ### Paper folded 21 times is 1048576mm (equal to 1048.576m)`"
   ]
  },
  {
   "cell_type": "code",
   "execution_count": 13,
   "id": "f5a7e396",
   "metadata": {},
   "outputs": [
    {
     "name": "stdout",
     "output_type": "stream",
     "text": [
      "enter how many times you want to fold paper to find thickness : 1\n",
      "Paper folded 1 is 1mm (equal to 0.001)\n",
      "enter how many times you want to fold paper to find thickness : 4\n",
      "Paper folded 4 is 1mm (equal to 0.008)\n",
      "enter how many times you want to fold paper to find thickness : 21\n",
      "Paper folded 21 is 1mm (equal to 1048.576)\n"
     ]
    }
   ],
   "source": [
    "def thick(n):\n",
    "    thickness = 0.5\n",
    "    for i in range(n):\n",
    "        thickness *= 2\n",
    "    return thickness/1000\n",
    "for j in range(3):\n",
    "    n = int(input(\"enter how many times you want to fold paper to find thickness : \"))\n",
    "    print(f\"Paper folded {n} is 1mm (equal to {thick(n)})\")\n",
    "    \n",
    "        \n",
    "\n",
    "    "
   ]
  },
  {
   "cell_type": "markdown",
   "id": "8e578e94",
   "metadata": {},
   "source": [
    "## 4.Create a function that takes a single string as argument and returns an ordered list containing the indices of all capital letters in the string.\n",
    "    Examples:\n",
    "    index_of_caps(\"eDaBiT\") ➞ [1, 3, 5]\n",
    "    index_of_caps(\"eQuINoX\") ➞ [1, 3, 4, 6]\n",
    "    index_of_caps(\"determine\") ➞ []\n",
    "    index_of_caps(\"STRIKE\") ➞ [0, 1, 2, 3, 4, 5]\n",
    "    index_of_caps(\"sUn\") ➞ [1]"
   ]
  },
  {
   "cell_type": "code",
   "execution_count": 19,
   "id": "952c5516",
   "metadata": {},
   "outputs": [
    {
     "name": "stdout",
     "output_type": "stream",
     "text": [
      "enter a string : eDaBiT\n",
      "[1, 3, 5]\n",
      "enter a string : eQuINXo\n",
      "[1, 3, 4, 5]\n",
      "enter a string : determine\n",
      "[]\n",
      "enter a string : STRIKE\n",
      "[0, 1, 2, 3, 4, 5]\n",
      "enter a string : sUn\n",
      "[1]\n"
     ]
    }
   ],
   "source": [
    "# Methos 1\n",
    "def indices(s):\n",
    "    c = 0\n",
    "    a = []\n",
    "    for i in s:\n",
    "        if ord(i) >= 65 and ord(i) <= 90:\n",
    "            a.append(c)\n",
    "        c += 1\n",
    "    return a\n",
    "for j in range(5):\n",
    "    s = input(\"enter a string : \")\n",
    "    print(indices(s))\n"
   ]
  },
  {
   "cell_type": "code",
   "execution_count": 18,
   "id": "09509bb3",
   "metadata": {},
   "outputs": [
    {
     "name": "stdout",
     "output_type": "stream",
     "text": [
      "eDaBiT ➞ [1, 3, 5]\n",
      "eQuINoX ➞ [1, 3, 4, 6]\n",
      "determine ➞ []\n",
      "STRIKE ➞ [0, 1, 2, 3, 4, 5]\n",
      "sUn ➞ [1]\n"
     ]
    }
   ],
   "source": [
    "## Method 2 by using in-build function like isupper() and .index()\n",
    "def index_of_caps(in_string):\n",
    "    out_string = []\n",
    "    for ele in in_string:\n",
    "        if ele.isupper():\n",
    "            out_string.append(in_string.index(ele))\n",
    "    print(f'{in_string} ➞ {out_string}')\n",
    "\n",
    "index_of_caps(\"eDaBiT\")\n",
    "index_of_caps(\"eQuINXo\")\n",
    "index_of_caps(\"determine\")\n",
    "index_of_caps(\"STRIKE\")\n",
    "index_of_caps(\"sUn\")"
   ]
  },
  {
   "cell_type": "markdown",
   "id": "9f07dc32",
   "metadata": {},
   "source": [
    "## 5.Using list comprehensions, create a function that finds all even numbers from 1 to the given number.\n",
    "    Examples:\n",
    "    find_even_nums(8) ➞ [2, 4, 6, 8]\n",
    "    find_even_nums(4) ➞ [2, 4]\n",
    "    find_even_nums(2) ➞ [2]"
   ]
  },
  {
   "cell_type": "code",
   "execution_count": 23,
   "id": "01a49ac4",
   "metadata": {},
   "outputs": [
    {
     "name": "stdout",
     "output_type": "stream",
     "text": [
      "enter last range to find even number between 1 to n : 8\n",
      "[2, 4, 6, 8]\n",
      "enter last range to find even number between 1 to n : 4\n",
      "[2, 4]\n",
      "enter last range to find even number between 1 to n : 2\n",
      "[2]\n"
     ]
    }
   ],
   "source": [
    "def even():\n",
    "    n = int(input(\"enter last range to find even number between 1 to n : \"))\n",
    "    l = []\n",
    "    l = [i for i in range(1,n+1) if i%2 == 0]\n",
    "    return l\n",
    "for j in range(3):\n",
    "    print(even())"
   ]
  }
 ],
 "metadata": {
  "kernelspec": {
   "display_name": "Python 3 (ipykernel)",
   "language": "python",
   "name": "python3"
  },
  "language_info": {
   "codemirror_mode": {
    "name": "ipython",
    "version": 3
   },
   "file_extension": ".py",
   "mimetype": "text/x-python",
   "name": "python",
   "nbconvert_exporter": "python",
   "pygments_lexer": "ipython3",
   "version": "3.9.7"
  }
 },
 "nbformat": 4,
 "nbformat_minor": 5
}
