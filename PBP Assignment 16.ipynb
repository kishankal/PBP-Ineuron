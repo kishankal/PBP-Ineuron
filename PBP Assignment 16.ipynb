{
 "cells": [
  {
   "cell_type": "markdown",
   "id": "71b392b4",
   "metadata": {},
   "source": [
    "## 1.Write a function that stutters a word as if someone is struggling to read it. The first two letters are repeated twice with an ellipsis ... and space after each, and then the word is pronounced with a question mark ?\n",
    "    Examples: stutter(\"incredible\") ➞ \"in... in... incredible?\"\n",
    "    stutter(\"enthusiastic\") ➞ \"en... en... enthusiastic?\"\n",
    "    stutter(\"outstanding\") ➞ \"ou... ou... outstanding?\"\n",
    "\n",
    "    Hint :- Assume all input is in lower case and at least two characters long."
   ]
  },
  {
   "cell_type": "code",
   "execution_count": 5,
   "id": "677fcc03",
   "metadata": {},
   "outputs": [
    {
     "name": "stdout",
     "output_type": "stream",
     "text": [
      "Enter the Word :incredible\n",
      "incredible ➞ in... in... incredible?\n",
      "Enter the Word :enthusiastic\n",
      "enthusiastic ➞ en... en... enthusiastic?\n",
      "Enter the Word :outstanding\n",
      "outstanding ➞ ou... ou... outstanding?\n"
     ]
    }
   ],
   "source": [
    "def stutterWord():\n",
    "    in_string = input('Enter the Word :')\n",
    "    out_string = in_string.replace(in_string[0:2],((in_string[0:2]+'... ')*2)+ in_string[0:2])  +'?'\n",
    "    print(f'{in_string} ➞ {out_string}')\n",
    "\n",
    "for i in range(3):\n",
    "    stutterWord()\n"
   ]
  },
  {
   "cell_type": "markdown",
   "id": "93f24556",
   "metadata": {},
   "source": [
    "## 2..Create a function that takes an angle in radians and returns the corresponding angle in degrees rounded to one decimal place ?\n",
    "    Examples: radians_to_degrees(1) ➞ 57.3\n",
    "    radians_to_degrees(20) ➞ 1145.9\n",
    "    radians_to_degrees(50) ➞ 2864.8"
   ]
  },
  {
   "cell_type": "code",
   "execution_count": 2,
   "id": "040735be",
   "metadata": {},
   "outputs": [
    {
     "name": "stdout",
     "output_type": "stream",
     "text": [
      "enter angle in radian to convert it into degree , give degree in integer : 1\n",
      "radians_to_degree(1) → 57.3\n",
      "enter angle in radian to convert it into degree , give degree in integer : 20\n",
      "radians_to_degree(20) → 1145.9\n",
      "enter angle in radian to convert it into degree , give degree in integer : 50\n",
      "radians_to_degree(50) → 2864.8\n"
     ]
    }
   ],
   "source": [
    "from math import pi as pi\n",
    "def r_to_d():\n",
    "    rd = int(input(\"enter angle in radian to convert it into degree , give degree in integer : \"))\n",
    "    result = (rd*180)/pi\n",
    "    return(f\"radians_to_degree({rd}) → {round(result,ndigits=1)}\")\n",
    "for i in range(3):\n",
    "    print(r_to_d())\n"
   ]
  },
  {
   "cell_type": "markdown",
   "id": "cacc711c",
   "metadata": {},
   "source": [
    "## 3.In this challenge, establish if a given integer num is a Curzon number. If 1 plus 2 elevated to num is exactly divisible by 1 plus 2 multiplied by num, then num is a Curzon number. Given a non-negative integer num, implement a function that returns True if num is a Curzon number, or False otherwise.\n",
    "    Examples: `is_curzon(5) ➞ True\n",
    "\n",
    "    2 ** 5 + 1 = 33\n",
    "    2 * 5 + 1 = 11\n",
    "    33 is a multiple of 11\n",
    "    is_curzon(10) ➞ False\n",
    "\n",
    "    2 ** 10 + 1 = 1025\n",
    "    2 * 10 + 1 = 21\n",
    "    1025 is not a multiple of 21\n",
    "    is_curzon(14) ➞ True\n",
    "\n",
    "    2 ** 14 + 1 = 16385\n",
    "    2 * 14 + 1 = 29\n",
    "    16385 is a multiple of 29`"
   ]
  },
  {
   "cell_type": "code",
   "execution_count": 6,
   "id": "87a4a1c4",
   "metadata": {},
   "outputs": [
    {
     "name": "stdout",
     "output_type": "stream",
     "text": [
      "enter number to check it's curzon or not : 1\n",
      "1 is a curzon number\n",
      "enter number to check it's curzon or not : 10\n",
      "10 is not a curzon number\n",
      "enter number to check it's curzon or not : 14\n",
      "14 is a curzon number\n"
     ]
    }
   ],
   "source": [
    "def curzon():\n",
    "    n = int(input(\"enter number to check it's curzon or not : \"))\n",
    "    x = (2**n) + 1\n",
    "    y = (2*n) + 1\n",
    "    if x%y == 0:\n",
    "        print(f\"{n} is a curzon number\")\n",
    "    else:\n",
    "        print(f\"{n} is not a curzon number\")\n",
    "        \n",
    "for i in range(3):\n",
    "    curzon()"
   ]
  },
  {
   "cell_type": "markdown",
   "id": "31bf209c",
   "metadata": {},
   "source": [
    "## 4.Given the side length x find the area of a hexagon ?\n",
    "    Examples: area_of_hexagon(1) ➞ 2.6\n",
    "    area_of_hexagon(2) ➞ 10.4\n",
    "    area_of_hexagon(3) ➞ 23.4"
   ]
  },
  {
   "cell_type": "code",
   "execution_count": 11,
   "id": "08377b18",
   "metadata": {},
   "outputs": [
    {
     "name": "stdout",
     "output_type": "stream",
     "text": [
      "enter a side length of hexagon for finding area of hexagon : 1\n",
      "Area_of_hexagon(1) → 2.6 \n",
      "enter a side length of hexagon for finding area of hexagon : 2\n",
      "Area_of_hexagon(2) → 10.4 \n",
      "enter a side length of hexagon for finding area of hexagon : 3\n",
      "Area_of_hexagon(3) → 23.4 \n"
     ]
    }
   ],
   "source": [
    "from math import sqrt \n",
    "def a_of_hexa():\n",
    "    n = int(input(\"enter a side length of hexagon for finding area of hexagon : \"))\n",
    "    area = ((3*sqrt(3))/2)*(pow(n,2))\n",
    "    print(f\"Area_of_hexagon({n}) → {round(area,ndigits = 1)} \")\n",
    "for i in range(3):\n",
    "    a_of_hexa()"
   ]
  },
  {
   "cell_type": "markdown",
   "id": "472513b7",
   "metadata": {},
   "source": [
    "## 5.Create a function that returns a base-2 (binary) representation of a base-10 (decimal) string number. To convert is simple:\n",
    "    ((2) means base-2 and (10) means base-10)\n",
    "    010101001(2) = 1 + 8 + 32 + 128.\n",
    "    Going from right to left, the value of the most right bit is 1, now from that every bit to the left will be x2 the         value, value of an 8 bit binary numbers are (256, 128, 64, 32, 16, 8, 4, 2, 1).\n",
    "    Examples:\n",
    "    `binary(1) ➞ \"1\"\n",
    "\n",
    "    # 1* 1 = 1\n",
    "    binary(5) ➞ \"101\"\n",
    "\n",
    "    # 1 1 + 1 4 = 5\n",
    "    binary(10) ➞ \"1010\"\n",
    "\n",
    "    # 1 2 + 1 8 = 10"
   ]
  },
  {
   "cell_type": "code",
   "execution_count": 17,
   "id": "a267fc56",
   "metadata": {},
   "outputs": [
    {
     "name": "stdout",
     "output_type": "stream",
     "text": [
      "Enter a Number: 1\n",
      "Binary of 1 ➞ 1\n",
      "Enter a Number: 5\n",
      "Binary of 5 ➞ 101\n",
      "Enter a Number: 10\n",
      "Binary of 10 ➞ 1010\n"
     ]
    }
   ],
   "source": [
    "def getBinary():\n",
    "    in_num = int(input(\"Enter a Number: \"))\n",
    "    out_num = bin(in_num).replace('0b','') \n",
    "    print(f'Binary of {in_num} ➞ {out_num}')\n",
    "\n",
    "for x in range(3):\n",
    "    getBinary()"
   ]
  },
  {
   "cell_type": "code",
   "execution_count": null,
   "id": "9758abc4",
   "metadata": {},
   "outputs": [],
   "source": []
  }
 ],
 "metadata": {
  "kernelspec": {
   "display_name": "Python 3 (ipykernel)",
   "language": "python",
   "name": "python3"
  },
  "language_info": {
   "codemirror_mode": {
    "name": "ipython",
    "version": 3
   },
   "file_extension": ".py",
   "mimetype": "text/x-python",
   "name": "python",
   "nbconvert_exporter": "python",
   "pygments_lexer": "ipython3",
   "version": "3.9.7"
  }
 },
 "nbformat": 4,
 "nbformat_minor": 5
}
