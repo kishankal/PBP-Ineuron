{
 "cells": [
  {
   "cell_type": "markdown",
   "id": "85a294de",
   "metadata": {},
   "source": [
    "## 1.Create a function that takes three parameters where:\n",
    "    x is the start of the range (inclusive).\n",
    "    y is the end of the range (inclusive).\n",
    "    n is the divisor to be checked against.\n",
    "\n",
    "    Return an ordered list with numbers in the range that are divisible by the third parameter n. Return an empty list if       there are no numbers that are divisible by n. Examples:\n",
    "    list_operation(1, 10, 3) ➞ [3, 6, 9]\n",
    "    list_operation(7, 9, 2) ➞ [8]\n",
    "    list_operation(15, 20, 7) ➞ []"
   ]
  },
  {
   "cell_type": "code",
   "execution_count": 3,
   "id": "279c3d21",
   "metadata": {},
   "outputs": [
    {
     "name": "stdout",
     "output_type": "stream",
     "text": [
      "Enter starting number of the range : 1\n",
      "Enter ending number of the range : 10\n",
      "Enter divisor number to be checked against range  : 3\n",
      "output ➞  [3, 6, 9]\n"
     ]
    }
   ],
   "source": [
    "def list_operation(x,y,n):\n",
    "    a = []\n",
    "    for i in range(x,y):\n",
    "        if i%n == 0:\n",
    "            a.append(i)\n",
    "    print(f\"output ➞  {a}\")\n",
    "x = int(input(\"Enter starting number of the range : \"))\n",
    "y = int(input(\"Enter ending number of the range : \"))\n",
    "n = int(input(\"Enter divisor number to be checked against range  : \"))\n",
    "list_operation(x,y,n)"
   ]
  },
  {
   "cell_type": "markdown",
   "id": "8a7a27a9",
   "metadata": {},
   "source": [
    "## 2.Create a function that takes in two lists and returns True if the second list follows the first list by one element, and False otherwise. In other words, determine if the second list is the first list shifted to the right by 1.\n",
    "    Examples:\n",
    "    simon_says([1, 2], [5, 1]) ➞ True\n",
    "    simon_says([1, 2], [5, 5]) ➞ False\n",
    "    simon_says([1, 2, 3, 4, 5], [0, 1, 2, 3, 4]) ➞ True\n",
    "    simon_says([1, 2, 3, 4, 5], [5, 5, 1, 2, 3]) ➞ False"
   ]
  },
  {
   "cell_type": "code",
   "execution_count": 17,
   "id": "b8d984a2",
   "metadata": {},
   "outputs": [
    {
     "data": {
      "text/plain": [
       "False"
      ]
     },
     "execution_count": 17,
     "metadata": {},
     "output_type": "execute_result"
    }
   ],
   "source": [
    "## Method 1\n",
    "\n",
    "def simon_says(a,b):\n",
    "    flag = 0\n",
    "    if len(a) == len(b):\n",
    "        for i in range(len(a)):\n",
    "            if i <= len(a)-2:\n",
    "                if a[i] != b[i+1]:\n",
    "                    flag = 1\n",
    "                    break\n",
    "        if flag == 0:\n",
    "            return True\n",
    "        else:\n",
    "            return False\n",
    "    else:\n",
    "        return \"your both list are not of same length\"\n",
    "    \n",
    "simon_says([1, 2, 3, 4, 5],[5, 5, 1, 2, 3])            "
   ]
  },
  {
   "cell_type": "code",
   "execution_count": 16,
   "id": "d06067fc",
   "metadata": {},
   "outputs": [
    {
     "name": "stdout",
     "output_type": "stream",
     "text": [
      "([1, 2], [5, 1]) ➞ True\n",
      "([1, 2], [5, 5]) ➞ False\n",
      "([1, 2, 3, 4, 5], [0, 1, 2, 3, 4]) ➞ True\n",
      "([1, 2, 3, 4, 5], [5, 5, 1, 2, 3]) ➞ False\n"
     ]
    }
   ],
   "source": [
    "## Method 2\n",
    "\n",
    "def simon_says(in_list_1,in_list_2):\n",
    "    if len(in_list_1) == len(in_list_1) and len(in_list_1) >=2 and len(in_list_1) >=2:\n",
    "        if(in_list_1[:-1] == in_list_2[1:]):\n",
    "            print(f'{in_list_1,in_list_2} ➞ {True}')\n",
    "        else:\n",
    "            print(f'{in_list_1,in_list_2} ➞ {False}')\n",
    "            \n",
    "simon_says([1, 2], [5, 1])\n",
    "simon_says([1, 2], [5, 5])\n",
    "simon_says([1, 2, 3, 4, 5], [0, 1, 2, 3, 4])\n",
    "simon_says([1, 2, 3, 4, 5], [5, 5, 1, 2, 3])"
   ]
  },
  {
   "cell_type": "markdown",
   "id": "7b90bca5",
   "metadata": {},
   "source": [
    "## 3.A group of friends have decided to start a secret society. The name will be the first letter of each of their names, sorted in a alphabetical order ? Create a function that takes in a list of names and returns the name of the secret society ?\n",
    "    Examples:\n",
    "    society_name([\"Adam\", \"Sarah\", \"Malcolm\"]) ➞ \"AMS\"\n",
    "    society_name([\"Harry\", \"Newt\", \"Luna\", \"Cho\"]) ➞ \"CHLN\"\n",
    "    society_name([\"Phoebe\", \"Chandler\", \"Rachel\", \"Ross\", \"Monica\", \"Joey\"])"
   ]
  },
  {
   "cell_type": "code",
   "execution_count": 22,
   "id": "e4fb91dc",
   "metadata": {},
   "outputs": [
    {
     "name": "stdout",
     "output_type": "stream",
     "text": [
      "AMS\n",
      "CHLN\n",
      "CJMPRR\n"
     ]
    }
   ],
   "source": [
    "def society_name(l):\n",
    "    a = sorted(l)\n",
    "    result = ''\n",
    "    for i in a:\n",
    "        result += ''.join(i[0])\n",
    "    print(result)\n",
    "society_name([\"Adam\", \"Sarah\", \"Malcolm\"])\n",
    "society_name([\"Harry\", \"Newt\", \"Luna\", \"Cho\"])\n",
    "society_name([\"Phoebe\", \"Chandler\", \"Rachel\", \"Ross\", \"Monica\", \"Joey\"])"
   ]
  },
  {
   "cell_type": "markdown",
   "id": "2d229ee7",
   "metadata": {},
   "source": [
    "## 4.An isogram is a word that has no duplicate letters. Create a function that takes a string and returns either True or False depending on whether or not it's an \"isogram\".\n",
    "    Examples:\n",
    "    is_isogram(\"Algorism\") ➞ True\n",
    "    is_isogram(\"PasSword\") ➞ False\n",
    "\n",
    "    # Not case sensitive.   \n",
    "    is_isogram(\"Consecutive\") ➞ False\n",
    "\n",
    "    Notes:\n",
    "    Ignore letter case (should not be case sensitive).\n",
    "    All test cases contain valid one word strings"
   ]
  },
  {
   "cell_type": "code",
   "execution_count": 36,
   "id": "2c74bbb5",
   "metadata": {},
   "outputs": [
    {
     "name": "stdout",
     "output_type": "stream",
     "text": [
      "Algorism ➞ True\n",
      "PasSword ➞ False\n",
      "Consecutive ➞ False\n"
     ]
    }
   ],
   "source": [
    "def is_isogram(s):\n",
    "    lower_s = s.lower()\n",
    "    if len(lower_s) == len(set(lower_s)):\n",
    "        print(f'{s} ➞ {True}')\n",
    "    else:\n",
    "        print(f'{s} ➞ {False}')\n",
    "    \n",
    "is_isogram(\"Algorism\")\n",
    "is_isogram(\"PasSword\")\n",
    "is_isogram(\"Consecutive\")"
   ]
  },
  {
   "cell_type": "markdown",
   "id": "00470921",
   "metadata": {},
   "source": [
    "## 5.Create a function that takes a string and returns True or False, depending on whether the characters are in order or not ?\n",
    "    Examples:\n",
    "    is_in_order(\"abc\") ➞ True\n",
    "    is_in_order(\"edabit\") ➞ False\n",
    "    is_in_order(\"123\") ➞ True\n",
    "    is_in_order(\"xyzz\") ➞ True\n",
    "\n",
    "    Notes:\n",
    "    You don't have to handle empty strings."
   ]
  },
  {
   "cell_type": "code",
   "execution_count": 39,
   "id": "03622f02",
   "metadata": {},
   "outputs": [],
   "source": [
    "r = ''.join(sorted('98459125412568'))"
   ]
  },
  {
   "cell_type": "code",
   "execution_count": 42,
   "id": "b7f6b4c4",
   "metadata": {},
   "outputs": [
    {
     "name": "stdout",
     "output_type": "stream",
     "text": [
      "is_in_order('abc') ➞ True\n",
      "is_in_order('edabit') ➞ False\n",
      "is_in_order('123') ➞ True\n",
      "is_in_order('xyzz') ➞ True\n"
     ]
    }
   ],
   "source": [
    "def is_in_order(s):\n",
    "    r = ''.join(sorted(s))\n",
    "    if s == r:\n",
    "        print(f\"is_in_order('{s}') ➞ True\")\n",
    "    else:\n",
    "        print(f\"is_in_order('{s}') ➞ False\")\n",
    "        \n",
    "        \n",
    "is_in_order(\"abc\")\n",
    "is_in_order(\"edabit\")\n",
    "is_in_order(\"123\")\n",
    "is_in_order(\"xyzz\")\n",
    "        "
   ]
  },
  {
   "cell_type": "code",
   "execution_count": null,
   "id": "1eea38b8",
   "metadata": {},
   "outputs": [],
   "source": []
  }
 ],
 "metadata": {
  "kernelspec": {
   "display_name": "Python 3 (ipykernel)",
   "language": "python",
   "name": "python3"
  },
  "language_info": {
   "codemirror_mode": {
    "name": "ipython",
    "version": 3
   },
   "file_extension": ".py",
   "mimetype": "text/x-python",
   "name": "python",
   "nbconvert_exporter": "python",
   "pygments_lexer": "ipython3",
   "version": "3.9.7"
  }
 },
 "nbformat": 4,
 "nbformat_minor": 5
}
