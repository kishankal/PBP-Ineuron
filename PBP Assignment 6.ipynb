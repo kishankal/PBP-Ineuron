{
 "cells": [
  {
   "cell_type": "code",
   "execution_count": 1,
   "id": "afcc80dc",
   "metadata": {},
   "outputs": [],
   "source": [
    "import os\n",
    "os.chdir('E:\\\\germany\\\\all work directory')"
   ]
  },
  {
   "cell_type": "markdown",
   "id": "27c85d6e",
   "metadata": {},
   "source": [
    "## 1.Write a Python Program to Display Fibonacci Sequence Using Recursion?\n",
    "## Answer :"
   ]
  },
  {
   "cell_type": "code",
   "execution_count": 4,
   "id": "e7fefa55",
   "metadata": {},
   "outputs": [
    {
     "name": "stdout",
     "output_type": "stream",
     "text": [
      "enter the limit number for fibonacci Sequence20\n",
      "0 1, 1, 2, 3, 5, 8, 13, 21, 34, 55, 89, 144, 233, 377, 610, 987, 1597, 2584, 4181, 6765, 10946, "
     ]
    }
   ],
   "source": [
    "def fib(n,a,b):\n",
    "    if n == 0:\n",
    "        return 1\n",
    "    else :\n",
    "        c = a + b\n",
    "        print(c,end = ', ')\n",
    "        fib(n-1,b,c)\n",
    "ran = int(input('enter the limit number for fibonacci Sequence'))\n",
    "print(0, 1,end = ', ')\n",
    "fib(ran,0,1)\n"
   ]
  },
  {
   "cell_type": "markdown",
   "id": "5a80fc4e",
   "metadata": {},
   "source": [
    "## 2.Write a Python Program to Find Factorial of Number Using Recursion?\n",
    "## Answer :"
   ]
  },
  {
   "cell_type": "code",
   "execution_count": 16,
   "id": "d830c0eb",
   "metadata": {},
   "outputs": [
    {
     "name": "stdout",
     "output_type": "stream",
     "text": [
      "Enter any number to find factorial of it : 5\n",
      "Factoriacl of  5 is 120\n"
     ]
    }
   ],
   "source": [
    "\n",
    "def fact(num):\n",
    "    if num == 0:\n",
    "        return 1\n",
    "    else :\n",
    "        return num*fact(num-1)\n",
    "           \n",
    "num = int(input('Enter any number to find factorial of it : '))\n",
    "x = fact(num)\n",
    "print(f'Factoriacl of  {num} is {x}')\n"
   ]
  },
  {
   "cell_type": "markdown",
   "id": "1c6ffb31",
   "metadata": {},
   "source": [
    "## 3. Write a Python Program to Calculate your Body Mass Index ?\n",
    "## Answer :"
   ]
  },
  {
   "cell_type": "code",
   "execution_count": 19,
   "id": "0d11cfde",
   "metadata": {},
   "outputs": [
    {
     "name": "stdout",
     "output_type": "stream",
     "text": [
      "Enter your Weight(kgs): 105\n",
      "Enter your Height(mts): 1.5\n",
      "Your're BMI is 46.666666666666664 and status is Suffering from Obesity \n"
     ]
    }
   ],
   "source": [
    "def cal_BMI():\n",
    "    weight = eval(input('Enter your Weight(kgs): '))\n",
    "    height = eval(input('Enter your Height(mts): '))\n",
    "    bmi = weight/pow(height,2)\n",
    "    if (bmi < 18.5):\n",
    "        status = 'Underweight'\n",
    "    elif (bmi >= 18.5 and bmi < 24.9):\n",
    "        status = 'Healthy'\n",
    "        \n",
    "    elif (bmi >= 24.9 and bmi < 30):\n",
    "        status = 'Overweight'\n",
    "    elif (bmi >=30):\n",
    "        status = 'Suffering from Obesity'\n",
    "    print(f'Your\\'re BMI is {bmi} and status is {status} ')\n",
    "cal_BMI()"
   ]
  },
  {
   "cell_type": "markdown",
   "id": "96221473",
   "metadata": {},
   "source": [
    "## 4. Write a Python Program to Calculate the Natural Logarithm of any Number ?\n",
    "## Answer :"
   ]
  },
  {
   "cell_type": "code",
   "execution_count": 22,
   "id": "e04c110d",
   "metadata": {},
   "outputs": [
    {
     "name": "stdout",
     "output_type": "stream",
     "text": [
      "Enter any number to find log of it : 25\n",
      "logarithm of 25 is 3.2188758248682006\n"
     ]
    }
   ],
   "source": [
    "import math\n",
    "def m_log(x):\n",
    "    print(f\"logarithm of {x} is {math.log(x)}\")\n",
    "a = int(input('Enter any number to find log of it : '))\n",
    "m_log(25)"
   ]
  },
  {
   "cell_type": "markdown",
   "id": "0936dd35",
   "metadata": {},
   "source": [
    "## 5.Write a Python Program for cube sum of first n natural numbers?\n",
    "## Answer :"
   ]
  },
  {
   "cell_type": "code",
   "execution_count": 28,
   "id": "98f7b94b",
   "metadata": {},
   "outputs": [
    {
     "name": "stdout",
     "output_type": "stream",
     "text": [
      "Enter range to find cube of first n natural number : 5\n",
      "225\n"
     ]
    }
   ],
   "source": [
    "\n",
    "def Cube_natural(n):\n",
    "    s = 0\n",
    "    for x in range(1,n+1):\n",
    "        result = pow(x,3)\n",
    "        s = s + result\n",
    "    print(s)\n",
    "\n",
    "a = int(input('Enter range to find cube of first n natural number : '))\n",
    "Cube_natural(a)"
   ]
  },
  {
   "cell_type": "code",
   "execution_count": null,
   "id": "32f9f517",
   "metadata": {},
   "outputs": [],
   "source": []
  }
 ],
 "metadata": {
  "kernelspec": {
   "display_name": "Python 3 (ipykernel)",
   "language": "python",
   "name": "python3"
  },
  "language_info": {
   "codemirror_mode": {
    "name": "ipython",
    "version": 3
   },
   "file_extension": ".py",
   "mimetype": "text/x-python",
   "name": "python",
   "nbconvert_exporter": "python",
   "pygments_lexer": "ipython3",
   "version": "3.9.7"
  }
 },
 "nbformat": 4,
 "nbformat_minor": 5
}
