{
 "cells": [
  {
   "cell_type": "markdown",
   "id": "16992477",
   "metadata": {},
   "source": [
    "## Question 1:\n",
    "## Please write a program using generator to print the numbers which can be divisible by 5 and 7 between 0 and n in comma separated form while n is input by console.\n",
    "## Example:\n",
    "    If the following n is given as input to the program:\n",
    "    100\n",
    "    Then, the output of the program should be:\n",
    "    0,35,70"
   ]
  },
  {
   "cell_type": "code",
   "execution_count": 4,
   "id": "b2dd02aa",
   "metadata": {},
   "outputs": [
    {
     "name": "stdout",
     "output_type": "stream",
     "text": [
      "enter range : 100\n",
      "0 35 70 "
     ]
    }
   ],
   "source": [
    "class generator:\n",
    "    def __init__(self,n):\n",
    "        self.n = n\n",
    "    def div(self):\n",
    "        for i in range(n):\n",
    "            if i%5==0 and i%7==0:\n",
    "                yield i\n",
    "n = int(input(\"enter range : \")) \n",
    "\n",
    "object_ = generator(n)\n",
    "\n",
    "for j in object_.div():\n",
    "    print(j,end=\" \")\n",
    "    \n",
    "   \n"
   ]
  },
  {
   "cell_type": "markdown",
   "id": "eb9efd12",
   "metadata": {},
   "source": [
    "## Question 2:\n",
    "## Please write a program using generator to print the even numbers between 0 and n in comma separated form while n is input by console.\n",
    "## Example:\n",
    "    If the following n is given as input to the program:\n",
    "    10\n",
    "    Then, the output of the program should be:\n",
    "    0,2,4,6,8,10"
   ]
  },
  {
   "cell_type": "code",
   "execution_count": 7,
   "id": "15044c1e",
   "metadata": {},
   "outputs": [
    {
     "name": "stdout",
     "output_type": "stream",
     "text": [
      "enter range : 100\n",
      "0\n",
      "2\n",
      "4\n",
      "6\n",
      "8\n",
      "10\n",
      "12\n",
      "14\n",
      "16\n",
      "18\n",
      "20\n",
      "22\n",
      "24\n",
      "26\n",
      "28\n",
      "30\n",
      "32\n",
      "34\n",
      "36\n",
      "38\n",
      "40\n",
      "42\n",
      "44\n",
      "46\n",
      "48\n",
      "50\n",
      "52\n",
      "54\n",
      "56\n",
      "58\n",
      "60\n",
      "62\n",
      "64\n",
      "66\n",
      "68\n",
      "70\n",
      "72\n",
      "74\n",
      "76\n",
      "78\n",
      "80\n",
      "82\n",
      "84\n",
      "86\n",
      "88\n",
      "90\n",
      "92\n",
      "94\n",
      "96\n",
      "98\n"
     ]
    }
   ],
   "source": [
    "class generator:\n",
    "    def __init__(self,n):\n",
    "        self.n = n\n",
    "    def div(self):\n",
    "        for i in range(n):\n",
    "            if i%2==0:\n",
    "                yield i\n",
    "n = int(input(\"enter range : \")) \n",
    "\n",
    "object_ = generator(n)\n",
    "for j in object_.div():\n",
    "    print(j,sep=\",\")\n",
    "    \n",
    "   \n"
   ]
  },
  {
   "cell_type": "markdown",
   "id": "f629e033",
   "metadata": {},
   "source": [
    "## Question 3:\n",
    "## The Fibonacci Sequence is computed based on the following formula:\n",
    "    f(n)=0 if n=0\n",
    "    f(n)=1 if n=1\n",
    "    f(n)=f(n-1)+f(n-2) if n>1\n",
    "    Please write a program using list comprehension to print the Fibonacci Sequence in comma separated form with a given n     input by console.\n",
    "    Example:\n",
    "    If the following n is given as input to the program:\n",
    "    7\n",
    "    Then, the output of the program should be:\n",
    "    0,1,1,2,3,5,8,13\n"
   ]
  },
  {
   "cell_type": "code",
   "execution_count": 5,
   "id": "1fdbac43",
   "metadata": {},
   "outputs": [
    {
     "name": "stdout",
     "output_type": "stream",
     "text": [
      "enter a range for fibonaci : 25\n",
      "[0, 1, 1, 2, 3, 5, 8, 13, 21, 34, 55, 89, 144, 233, 377, 610, 987, 1597, 2584, 4181, 6765, 10946, 17711, 28657, 46368]\n"
     ]
    }
   ],
   "source": [
    "def genFibonaci(n):\n",
    "    if n == 0:\n",
    "        return 0\n",
    "    elif n == 1:\n",
    "        return 1\n",
    "    else:\n",
    "        return genFibonaci(n-1)+genFibonaci(n-2)\n",
    "n = int(input(\"enter a range for fibonaci : \"))   \n",
    "print([genFibonaci(x) for x in range(n)])"
   ]
  },
  {
   "cell_type": "markdown",
   "id": "26a46ab7",
   "metadata": {},
   "source": [
    "## Question 4:\n",
    "## Assuming that we have some email addresses in the \"username@companyname.com\" format, please write program to print the user name of a given email address. Both user names and company names are composed of letters only.\n",
    "## Example:\n",
    "    If the following email address is given as input to the program:\n",
    "    john@google.com\n",
    "    Then, the output of the program should be:\n",
    "    john\n"
   ]
  },
  {
   "cell_type": "code",
   "execution_count": 6,
   "id": "760e6d22",
   "metadata": {},
   "outputs": [
    {
     "name": "stdout",
     "output_type": "stream",
     "text": [
      "kkaiyfgweg@gmail.com\n",
      "kkaiyfgweg\n"
     ]
    }
   ],
   "source": [
    "import re\n",
    "sp = '[{(<>,.?/:;!~`@#$%^&*_-+=-/\\|)}]'\n",
    "emailAddress = input()\n",
    "p2 = \"(\\w+)@(\\w+)\\.(com)\"\n",
    "r2 = re.match(p2,emailAddress)\n",
    "print(r2.group(1))   "
   ]
  },
  {
   "cell_type": "markdown",
   "id": "8566e56b",
   "metadata": {},
   "source": [
    "## Question 5:\n",
    "## Define a class named Shape and its subclass Square. The Square class has an init function which takes a length as argument. Both classes have a area function which can print the area of the shape where Shape's area is 0 by default.\n"
   ]
  },
  {
   "cell_type": "code",
   "execution_count": 2,
   "id": "0ad0053e",
   "metadata": {},
   "outputs": [
    {
     "name": "stdout",
     "output_type": "stream",
     "text": [
      "enter a length of a square : 5\n",
      "25\n"
     ]
    }
   ],
   "source": [
    "\n",
    "class Shape:\n",
    "    def area(self):\n",
    "        return 0\n",
    "    \n",
    "class Square(Shape):\n",
    "    def __init__(self,length):\n",
    "        self.length = length\n",
    "    def area(self):\n",
    "        return self.length*self.length\n",
    "l = int(input('enter a length of a square : '))\n",
    "square = Square(l)\n",
    "print(square.area())\n"
   ]
  },
  {
   "cell_type": "code",
   "execution_count": null,
   "id": "8b456a3b",
   "metadata": {},
   "outputs": [],
   "source": []
  }
 ],
 "metadata": {
  "kernelspec": {
   "display_name": "Python 3 (ipykernel)",
   "language": "python",
   "name": "python3"
  },
  "language_info": {
   "codemirror_mode": {
    "name": "ipython",
    "version": 3
   },
   "file_extension": ".py",
   "mimetype": "text/x-python",
   "name": "python",
   "nbconvert_exporter": "python",
   "pygments_lexer": "ipython3",
   "version": "3.9.7"
  }
 },
 "nbformat": 4,
 "nbformat_minor": 5
}
