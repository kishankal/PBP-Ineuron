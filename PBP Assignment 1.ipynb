{
 "cells": [
  {
   "cell_type": "markdown",
   "id": "5a78a09f",
   "metadata": {},
   "source": [
    "## 1. Write a Python program to print \"Hello Python\"?\n",
    "## Answer :"
   ]
  },
  {
   "cell_type": "code",
   "execution_count": 1,
   "id": "4fa516d6",
   "metadata": {},
   "outputs": [
    {
     "name": "stdout",
     "output_type": "stream",
     "text": [
      "Hello Python\n"
     ]
    }
   ],
   "source": [
    "print('Hello Python')"
   ]
  },
  {
   "cell_type": "markdown",
   "id": "b45e85ac",
   "metadata": {},
   "source": [
    "## 2.Write a Python program to do arithmetical operations addition and division.?\n",
    "## Answer :"
   ]
  },
  {
   "cell_type": "code",
   "execution_count": 2,
   "id": "7cf60ad9",
   "metadata": {},
   "outputs": [
    {
     "name": "stdout",
     "output_type": "stream",
     "text": [
      "select opeartor from given below :        \n",
      "1. Addition(+)        \n",
      "2. Subtraction(-)        \n",
      "3. Multiplication(*)        \n",
      "4. Division(/)        \n",
      "5. End(0)\n",
      "enter the operation to perform : -\n",
      "\n",
      "enter any integer number for arithmetical operations : 40\n",
      "\n",
      "enter any integer number for arithmetical operations : 20\n",
      "40-20 = 20\n",
      "\n",
      "enter the operation to perform : 0\n",
      "Program is End successfully\n"
     ]
    }
   ],
   "source": [
    "import operator\n",
    "\n",
    "values = {'+' : operator.add, '-' : operator.sub, '*' : operator.mul, '/' : operator.truediv}\n",
    "\n",
    "print('select opeartor from given below : \\\n",
    "       \\n1. Addition(+) \\\n",
    "       \\n2. Subtraction(-) \\\n",
    "       \\n3. Multiplication(*) \\\n",
    "       \\n4. Division(/) \\\n",
    "       \\n5. End(0)')\n",
    "\n",
    "while True:\n",
    "    ops = input('enter the operation to perform : ')\n",
    "    if ops == '0':\n",
    "        print('Program is End successfully')\n",
    "        break\n",
    "        \n",
    "    elif ops not in ['+','-','*','/']:\n",
    "        print('please enter correct opeartion from the list provided above')\n",
    "    \n",
    "    else :\n",
    "        x = int(input('\\nenter any integer number for arithmetical operations : '))\n",
    "        y = int(input('\\nenter any integer number for arithmetical operations : '))\n",
    "        print('{}{}{} = {}\\n'.format(x,ops,y,values[ops](x,y)))\n",
    "        \n",
    "\n",
    "\n",
    "\n",
    "        "
   ]
  },
  {
   "cell_type": "markdown",
   "id": "1f5282c9",
   "metadata": {},
   "source": [
    "## 3.Write a Python program to find the area of a triangle?\n",
    "## Answer :"
   ]
  },
  {
   "cell_type": "code",
   "execution_count": 3,
   "id": "8876e28e",
   "metadata": {},
   "outputs": [
    {
     "name": "stdout",
     "output_type": "stream",
     "text": [
      "Enter the height of the triangle15\n",
      "Enter the base of the triangle12\n",
      "Area of the triangle with height : 15 and base : 12 is 90\n"
     ]
    }
   ],
   "source": [
    "height = int(input('Enter the height of the triangle'))\n",
    "base   = int(input('Enter the base of the triangle'))\n",
    "\n",
    "def AOT(height,base):\n",
    "    x = 0.5*height*base\n",
    "    print('Area of the triangle with height : {} and base : {} is {}'.format(height,base,int(x)))\n",
    "          \n",
    "AOT(height,base)"
   ]
  },
  {
   "cell_type": "markdown",
   "id": "12798c22",
   "metadata": {},
   "source": [
    "## 4.Write a Python program to swap two variables?\n",
    "## Answer :"
   ]
  },
  {
   "cell_type": "code",
   "execution_count": 7,
   "id": "0b05bc42",
   "metadata": {},
   "outputs": [
    {
     "name": "stdout",
     "output_type": "stream",
     "text": [
      "Enter the first number to swap : 25\n",
      "Enter the second number to swap : 10\n",
      "Values before Swaping opertion is a : 25 and b : 10\n",
      "result after swaping is a : 10 and b : 25\n"
     ]
    }
   ],
   "source": [
    "num1 = int(input('Enter the first number to swap : '))\n",
    "num2 = int(input('Enter the second number to swap : '))\n",
    "\n",
    "print(\"Values before Swaping opertion is a : {} and b : {}\".format(num1,num2))\n",
    "\n",
    "def Swap(a,b):\n",
    "    x = a\n",
    "    a = b\n",
    "    b = x\n",
    "    print(\"result after swaping is a : {} and b : {}\".format(a,b))\n",
    "\n",
    "Swap(num1,num2)"
   ]
  },
  {
   "cell_type": "markdown",
   "id": "b6bfcd0b",
   "metadata": {},
   "source": [
    "## 5.Write a Python program to generate a random number?\n",
    "##  Answer :"
   ]
  },
  {
   "cell_type": "code",
   "execution_count": 8,
   "id": "ed2d5105",
   "metadata": {},
   "outputs": [
    {
     "name": "stdout",
     "output_type": "stream",
     "text": [
      "Random Number ->  48874\n",
      "Random Number ->  53\n"
     ]
    }
   ],
   "source": [
    "from random import randint\n",
    "\n",
    "def GenerateRandomNumber(start = 0,end = 100000):\n",
    "    print(\"Random Number -> \",randint(start,end))\n",
    "\n",
    "## if argument is not mention\n",
    "GenerateRandomNumber()\n",
    "\n",
    "## if argument is mention \n",
    "GenerateRandomNumber(0,100)"
   ]
  },
  {
   "cell_type": "code",
   "execution_count": null,
   "id": "bbc07cd3",
   "metadata": {},
   "outputs": [],
   "source": []
  }
 ],
 "metadata": {
  "kernelspec": {
   "display_name": "Python 3 (ipykernel)",
   "language": "python",
   "name": "python3"
  },
  "language_info": {
   "codemirror_mode": {
    "name": "ipython",
    "version": 3
   },
   "file_extension": ".py",
   "mimetype": "text/x-python",
   "name": "python",
   "nbconvert_exporter": "python",
   "pygments_lexer": "ipython3",
   "version": "3.9.7"
  }
 },
 "nbformat": 4,
 "nbformat_minor": 5
}
