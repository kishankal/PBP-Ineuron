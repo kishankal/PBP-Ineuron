{
 "cells": [
  {
   "cell_type": "markdown",
   "id": "1db6c5d5",
   "metadata": {},
   "source": [
    "## 1. Create a function that takes an integer and returns a list from 1 to the given number, where:\n",
    "### 1.If the number can be divided evenly by 4, amplify it by 10 (i.e. return 10 times the number).\n",
    "### 2.If the number cannot be divided evenly by 4, simply return the number.\n",
    "    Examples\n",
    "    amplify(4) ➞ [1, 2, 3, 40]\n",
    "\n",
    "    amplify(3) ➞ [1, 2, 3]\n",
    "\n",
    "    amplify(25) ➞ [1, 2, 3, 40, 5, 6, 7, 80, 9, 10, 11, 120, 13, 14, 15, 160, 17, 18, 19, 200, 21, 22, 23, 240, 25]\n",
    "    Notes\n",
    "    The given integer will always be equal to or greater than 1.\n",
    "    Include the number (see example above).\n",
    "    To perform this problem with its intended purpose, try doing it with list comprehensions. If that's too difficult,         just solve the challenge any way you can."
   ]
  },
  {
   "cell_type": "code",
   "execution_count": 3,
   "id": "fafa2e95",
   "metadata": {},
   "outputs": [
    {
     "name": "stdout",
     "output_type": "stream",
     "text": [
      "enter a number : 4\n",
      "amplify(4) ➞ [1, 2, 3, 40]\n",
      "enter a number : 3\n",
      "amplify(3) ➞ [1, 2, 3]\n",
      "enter a number : 25\n",
      "amplify(25) ➞ [1, 2, 3, 40, 5, 6, 7, 80, 9, 10, 11, 120, 13, 14, 15, 160, 17, 18, 19, 200, 21, 22, 23, 240, 25]\n"
     ]
    }
   ],
   "source": [
    "def amplify(n):\n",
    "    l = []\n",
    "    \n",
    "    for i in range(1,n+1):\n",
    "        if i%4 == 0:\n",
    "            l.append(i*10)\n",
    "        else:\n",
    "            l.append(i)\n",
    "    print(f\"amplify({n}) ➞ {l}\")\n",
    "    \n",
    "for i in range(3):\n",
    "    n = int(input(\"enter a number : \"))\n",
    "    amplify(n)"
   ]
  },
  {
   "cell_type": "markdown",
   "id": "2e378fd0",
   "metadata": {},
   "source": [
    "## 2.Create a function that takes a list of numbers and return the number that's unique.\n",
    "    Examples:\n",
    "    unique([3, 3, 3, 7, 3, 3]) ➞ 7\n",
    "    unique([0, 0, 0.77, 0, 0]) ➞ 0.77\n",
    "    unique([0, 1, 1, 1, 1, 1, 1, 1]) ➞ 0\n",
    "\n",
    "    Notes:\n",
    "    Test cases will always have exactly one unique number while all others are the same."
   ]
  },
  {
   "cell_type": "code",
   "execution_count": 17,
   "id": "fc72d80d",
   "metadata": {},
   "outputs": [
    {
     "name": "stdout",
     "output_type": "stream",
     "text": [
      "[3, 3, 3, 7, 3, 3] ➞ 7\n",
      "[0, 0, 0.77, 0, 0] ➞ 0.77\n",
      "[0, 1, 1, 1, 1, 1, 1, 1] ➞ 0\n"
     ]
    }
   ],
   "source": [
    "def unique(in_list):\n",
    "    out_num = ''\n",
    "    for ele in set(in_list):\n",
    "        if in_list.count(ele) == 1:\n",
    "            out_num = ele\n",
    "    print(f'{in_list} ➞ {out_num}')\n",
    "\n",
    "unique([3, 3, 3, 7, 3, 3])\n",
    "unique([0, 0, 0.77, 0, 0])\n",
    "unique([0, 1, 1, 1, 1, 1, 1, 1])\n",
    "        "
   ]
  },
  {
   "cell_type": "markdown",
   "id": "530c2d24",
   "metadata": {},
   "source": [
    "## 3.Your task is to create a Circle constructor that creates a circle with a radius provided by an argument. The circles constructed must have two getters getArea() (PIr^2) and getPerimeter() (2PI*r) which give both respective areas and perimeter (circumference). For help with this class, I have provided you with a Rectangle constructor which you can use as a base example ?\n",
    "    Examples:\n",
    "    circy = Circle(11)\n",
    "    circy.getArea()\n",
    "    \n",
    "### Should return 380.132711084365\n",
    "    circy = Circle(4.44)\n",
    "    circy.getPerimeter()\n",
    "\n",
    "### Should return 27.897342763877365\n",
    "\n",
    "    Notes:\n",
    "    Round results up to the nearest integer."
   ]
  },
  {
   "cell_type": "code",
   "execution_count": 29,
   "id": "5f7dd0ce",
   "metadata": {},
   "outputs": [
    {
     "name": "stdout",
     "output_type": "stream",
     "text": [
      "Area of a circle with radius = 11 is 380\n",
      "Perimeter of a circle with radius = 4.44 is 28\n"
     ]
    }
   ],
   "source": [
    "from math import pi\n",
    "class Circle:\n",
    "    def __init__(self,r):\n",
    "        self.r = r\n",
    "    def getArea(self):\n",
    "        result = pi*(self.r**2)\n",
    "        print(f\"Area of a circle with radius = {self.r} is {round(result)}\")\n",
    "    def getPerimeter(self):\n",
    "        result = 2*pi*self.r\n",
    "        print(f\"Perimeter of a circle with radius = {self.r} is {round(result)}\")\n",
    "circy = Circle(11)\n",
    "circy.getArea()\n",
    "\n",
    "circy = Circle(4.44)\n",
    "circy.getPerimeter()"
   ]
  },
  {
   "cell_type": "markdown",
   "id": "b7e21455",
   "metadata": {},
   "source": [
    "## 4.Create a function that takes a list of strings and return a list, sorted from shortest to longest.\n",
    "    Examples:\n",
    "    sort_by_length([\"Google\", \"Apple\", \"Microsoft\"])\n",
    "    ➞ [\"Apple\", \"Google\", \"Microsoft\"]\n",
    "    sort_by_length([\"Leonardo\", \"Michelangelo\", \"Raphael\", \"Donatello\"])\n",
    "    ➞ [\"Raphael\", \"Leonardo\", \"Donatello\", \"Michelangelo\"]\n",
    "    sort_by_length([\"Turing\", \"Einstein\", \"Jung\"])\n",
    "    ➞ [\"Jung\", \"Turing\", \"Einstein\"]\n",
    "\n",
    "    Notes:\n",
    "    All test cases contain lists with strings of different lengths, so you won't have to deal with multiple strings of the     same length."
   ]
  },
  {
   "cell_type": "code",
   "execution_count": 30,
   "id": "c9cce673",
   "metadata": {},
   "outputs": [
    {
     "name": "stdout",
     "output_type": "stream",
     "text": [
      "['Apple', 'Google', 'Microsoft']\n",
      "['Donatello', 'Leonardo', 'Michelangelo', 'Raphael']\n",
      "['Einstein', 'Jung', 'Turing']\n"
     ]
    }
   ],
   "source": [
    "def sort_by_length(l):\n",
    "    print(sorted(l))\n",
    "    \n",
    "sort_by_length([\"Google\", \"Apple\", \"Microsoft\"])\n",
    "sort_by_length([\"Leonardo\", \"Michelangelo\", \"Raphael\", \"Donatello\"])\n",
    "sort_by_length([\"Turing\", \"Einstein\", \"Jung\"])\n"
   ]
  },
  {
   "cell_type": "markdown",
   "id": "8ddf15aa",
   "metadata": {},
   "source": [
    "## 5.Create a function that validates whether three given integers form a Pythagorean triplet. The sum of the squares of the two smallest integers must equal the square of the largest number to be validated.\n",
    "    Examples:\n",
    "    is_triplet(3, 4, 5) ➞ True\n",
    "\n",
    "### 3² + 4² = 25\n",
    "### 5² = 25\n",
    "    is_triplet(13, 5, 12) ➞ True\n",
    "\n",
    "### 5² + 12² = 169\n",
    "### 13² = 169\n",
    "    is_triplet(1, 2, 3) ➞ False\n",
    "\n",
    "### 1² + 2² = 5\n",
    "### 3² = 9`\n",
    "\n",
    "    Notes: Numbers may not be given in a sorted order.\n",
    "\n"
   ]
  },
  {
   "cell_type": "code",
   "execution_count": 31,
   "id": "4ada591f",
   "metadata": {},
   "outputs": [
    {
     "name": "stdout",
     "output_type": "stream",
     "text": [
      "(3, 4, 5) ➞ True\n",
      "(3, 4, 5) ➞ True\n",
      "(1, 2, 3) ➞ False\n"
     ]
    }
   ],
   "source": [
    "def is_triplet(a,b,c):\n",
    "    if ((a**2+b**2) == (c**2)):\n",
    "        print(f'{a,b,c} ➞ {True}')\n",
    "    else:\n",
    "        print(f'{a,b,c} ➞ {False}')\n",
    "        \n",
    "is_triplet(3, 4, 5)\n",
    "is_triplet(3, 4, 5)\n",
    "is_triplet(1, 2, 3)"
   ]
  },
  {
   "cell_type": "code",
   "execution_count": null,
   "id": "92246eab",
   "metadata": {},
   "outputs": [],
   "source": []
  }
 ],
 "metadata": {
  "kernelspec": {
   "display_name": "Python 3 (ipykernel)",
   "language": "python",
   "name": "python3"
  },
  "language_info": {
   "codemirror_mode": {
    "name": "ipython",
    "version": 3
   },
   "file_extension": ".py",
   "mimetype": "text/x-python",
   "name": "python",
   "nbconvert_exporter": "python",
   "pygments_lexer": "ipython3",
   "version": "3.9.7"
  }
 },
 "nbformat": 4,
 "nbformat_minor": 5
}
