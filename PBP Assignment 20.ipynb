{
 "cells": [
  {
   "cell_type": "markdown",
   "id": "b1c3a9ad",
   "metadata": {},
   "source": [
    "## 1.Create a function that takes a list of strings and integers, and filters out the list so that it returns a list of integers only.\n",
    "    Examples:\n",
    "    filter_list([1, 2, 3, \"a\", \"b\", 4]) ➞ [1, 2, 3, 4]\n",
    "    filter_list([\"A\", 0, \"Edabit\", 1729, \"Python\", \"1729\"]) ➞ [0, 1729]\n",
    "    filter_list([\"Nothing\", \"here\"]) ➞ []"
   ]
  },
  {
   "cell_type": "code",
   "execution_count": 3,
   "id": "c233daba",
   "metadata": {},
   "outputs": [
    {
     "name": "stdout",
     "output_type": "stream",
     "text": [
      "filter_list([1, 2, 3,'a', 'b', 4]) ➞ [1, 2, 3, 4]\n",
      "filter_list(['A', 0, 'Edabit', 1729, 'Python', '1729']) ➞ [0, 1729]\n",
      "filter_list(['Nothing', 'here']) ➞ []\n"
     ]
    }
   ],
   "source": [
    "def filter(l):\n",
    "    a = []\n",
    "    for i in l:\n",
    "        if type(i) == int:\n",
    "            a.append(i)\n",
    "    return a\n",
    "print(f\"filter_list([1, 2, 3,'a', 'b', 4]) ➞ {filter([1,2,3,'a','b',4])}\")\n",
    "print(f\"filter_list(['A', 0, 'Edabit', 1729, 'Python', '1729']) ➞ {filter(['A', 0, 'Edabit', 1729, 'Python', '1729'])}\")\n",
    "print(f\"filter_list(['Nothing', 'here']) ➞ {filter(['Nothing', 'here'])}\")\n",
    "        \n",
    "    "
   ]
  },
  {
   "cell_type": "markdown",
   "id": "e2f5cb95",
   "metadata": {},
   "source": [
    "## 2.Given a list of numbers, create a function which returns the list but with each element's index in the list added to itself. This means you add 0 to the number at index 0, add 1 to the number at index 1, etc...\n",
    "    Examples:\n",
    "    add_indexes([0, 0, 0, 0, 0]) ➞ [0, 1, 2, 3, 4]\n",
    "    add_indexes([1, 2, 3, 4, 5]) ➞ [1, 3, 5, 7, 9]\n",
    "    add_indexes([5, 4, 3, 2, 1]) ➞ [5, 5, 5, 5, 5]"
   ]
  },
  {
   "cell_type": "code",
   "execution_count": 8,
   "id": "019a5fb9",
   "metadata": {},
   "outputs": [
    {
     "name": "stdout",
     "output_type": "stream",
     "text": [
      "[0, 0, 0, 0, 0] ➞ [0, 1, 2, 3, 4]\n",
      "[1, 2, 3, 4, 5] ➞ [1, 3, 5, 7, 9]\n",
      "[5, 4, 3, 2, 1] ➞ [5, 5, 5, 5, 5]\n"
     ]
    }
   ],
   "source": [
    "def index(l):\n",
    "    a = []\n",
    "    for i in range(len(l)):\n",
    "        a.append(i + l[i])\n",
    "    print(f'{l} ➞ {a}')\n",
    "        \n",
    "index([0, 0, 0, 0, 0])\n",
    "index([1, 2, 3, 4, 5])\n",
    "index([5, 4, 3, 2, 1])\n"
   ]
  },
  {
   "cell_type": "markdown",
   "id": "86b4e783",
   "metadata": {},
   "source": [
    "## 3.Create a function that takes the height and radius of a cone as arguments and returns the volume of the cone rounded to the nearest hundredth. See the resources tab for the formula.\n",
    "    Examples:\n",
    "    cone_volume(3, 2) ➞ 12.57\n",
    "    cone_volume(15, 6) ➞ 565.49\n",
    "    cone_volume(18, 0) ➞ 0"
   ]
  },
  {
   "cell_type": "code",
   "execution_count": 9,
   "id": "5d612422",
   "metadata": {},
   "outputs": [
    {
     "name": "stdout",
     "output_type": "stream",
     "text": [
      "Output ➞ 12.57\n",
      "Output ➞ 565.49\n",
      "Output ➞ 0.00\n"
     ]
    }
   ],
   "source": [
    "from math import pi\n",
    "\n",
    "def cube_volume(height, radius):\n",
    "    output = ((pi)*pow(radius,2))*(height/3)\n",
    "    print(f'Output ➞ {output:.2f}')\n",
    "\n",
    "cube_volume(3,2) \n",
    "cube_volume(15,6)    \n",
    "cube_volume(18,0) "
   ]
  },
  {
   "cell_type": "markdown",
   "id": "e9b0f2fe",
   "metadata": {},
   "source": [
    "## 4.This Triangular Number Sequence is generated from a pattern of dots that form a triangle.\n",
    "    The first 5 numbers of the sequence, or dots, are: 1, 3, 6, 10, 15\n",
    "    This means that the first triangle has just one dot, the second one has three dots, the third one has 6 dots and so on.     Write a function that gives the number of dots with its corresponding triangle number of the sequence.\n",
    "    Examples:\n",
    "    triangle(1) ➞ 1\n",
    "    triangle(6) ➞ 21\n",
    "    triangle(215) ➞ 23220\n"
   ]
  },
  {
   "cell_type": "code",
   "execution_count": 12,
   "id": "1aa2b4cd",
   "metadata": {},
   "outputs": [
    {
     "name": "stdout",
     "output_type": "stream",
     "text": [
      "enter integer for sequence : 1\n",
      "triangle(1) ➞ 1\n",
      "enter integer for sequence : 6\n",
      "triangle(6) ➞ 21\n",
      "enter integer for sequence : 215\n",
      "triangle(215) ➞ 23220\n"
     ]
    }
   ],
   "source": [
    "def triangle(n):\n",
    "    s = 0\n",
    "  \n",
    "    for i in range(1,n+1):\n",
    "        s = s + i\n",
    "        \n",
    "    print(f\"triangle({n}) ➞ {s}\")\n",
    "for j in range(3):\n",
    "    n = int(input(\"enter integer for sequence : \"))\n",
    "    triangle(n)"
   ]
  },
  {
   "cell_type": "markdown",
   "id": "68411b46",
   "metadata": {},
   "source": [
    "## 5.Create a function that takes a list of numbers between 1 and 10 (excluding one number) and returns the missing number.\n",
    "    Examples:\n",
    "    missing_num([1, 2, 3, 4, 6, 7, 8, 9, 10]) ➞ 5\n",
    "    missing_num([7, 2, 3, 6, 5, 9, 1, 4, 8]) ➞ 10\n",
    "    missing_num([10, 5, 1, 2, 4, 6, 8, 3, 9]) ➞ 7"
   ]
  },
  {
   "cell_type": "code",
   "execution_count": 20,
   "id": "b9011466",
   "metadata": {},
   "outputs": [
    {
     "name": "stdout",
     "output_type": "stream",
     "text": [
      "[1, 2, 3, 8, 9, 10] ➞ [4, 5, 6, 7]\n",
      "[7, 2, 3, 6, 9, 1, 4, 8] ➞ [5, 10]\n",
      "[10, 5, 1, 2, 4, 6, 8, 3, 9] ➞ [7]\n"
     ]
    }
   ],
   "source": [
    "def missing_num(l):\n",
    "    a = []\n",
    "    for i in range(1,11):\n",
    "        if i not in l:\n",
    "            a.append(i)\n",
    "    print(f'{l} ➞ {a}')\n",
    "\n",
    "missing_num([1, 2, 3, 8, 9, 10])\n",
    "missing_num([7, 2, 3, 6, 9, 1, 4, 8])\n",
    "missing_num([10, 5, 1, 2, 4, 6, 8, 3, 9])"
   ]
  },
  {
   "cell_type": "code",
   "execution_count": null,
   "id": "a9164979",
   "metadata": {},
   "outputs": [],
   "source": []
  }
 ],
 "metadata": {
  "kernelspec": {
   "display_name": "Python 3 (ipykernel)",
   "language": "python",
   "name": "python3"
  },
  "language_info": {
   "codemirror_mode": {
    "name": "ipython",
    "version": 3
   },
   "file_extension": ".py",
   "mimetype": "text/x-python",
   "name": "python",
   "nbconvert_exporter": "python",
   "pygments_lexer": "ipython3",
   "version": "3.9.7"
  }
 },
 "nbformat": 4,
 "nbformat_minor": 5
}
