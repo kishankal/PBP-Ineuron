{
 "cells": [
  {
   "cell_type": "markdown",
   "id": "031919ff",
   "metadata": {},
   "source": [
    "## 1.Write a Python Program to Find the Factorial of a Number?\n",
    "## Answer :"
   ]
  },
  {
   "cell_type": "code",
   "execution_count": 5,
   "id": "64413028",
   "metadata": {},
   "outputs": [
    {
     "name": "stdout",
     "output_type": "stream",
     "text": [
      "enter any number to find factorial : 12\n"
     ]
    },
    {
     "data": {
      "text/plain": [
       "479001600"
      ]
     },
     "execution_count": 5,
     "metadata": {},
     "output_type": "execute_result"
    }
   ],
   "source": [
    "def fact(num):\n",
    "    fact_sum = 1\n",
    "    for i in range(1,num+1):\n",
    "        fact_sum = fact_sum*i\n",
    "    return fact_sum\n",
    "a = int(input('enter any number to find factorial : '))\n",
    "fact(a)"
   ]
  },
  {
   "cell_type": "markdown",
   "id": "b96d65e5",
   "metadata": {},
   "source": [
    "## 2.Write a Python Program to Display the multiplication Table?\n",
    "## Answer :"
   ]
  },
  {
   "cell_type": "code",
   "execution_count": 3,
   "id": "6039c7aa",
   "metadata": {},
   "outputs": [
    {
     "name": "stdout",
     "output_type": "stream",
     "text": [
      "enter any number to display it's table : 5\n",
      "1 * 5 = 5\n",
      "2 * 5 = 10\n",
      "3 * 5 = 15\n",
      "4 * 5 = 20\n",
      "5 * 5 = 25\n",
      "6 * 5 = 30\n",
      "7 * 5 = 35\n",
      "8 * 5 = 40\n",
      "9 * 5 = 45\n",
      "10 * 5 = 50\n"
     ]
    }
   ],
   "source": [
    "def print_table(num):\n",
    "    for i in range(1,11,1):\n",
    "        m = num*i\n",
    "        print('{} * {} = {}'.format(i,num,m))\n",
    "\n",
    "a = int(input(\"enter any number to display it's table : \"))\n",
    "print_table(a)\n",
    "\n",
    "    "
   ]
  },
  {
   "cell_type": "markdown",
   "id": "57f5b420",
   "metadata": {},
   "source": [
    "## 3.Write a Python Program to Print the Fibonacci sequence?\n",
    "## Answer :"
   ]
  },
  {
   "cell_type": "code",
   "execution_count": 4,
   "id": "c97d3cd1",
   "metadata": {},
   "outputs": [
    {
     "name": "stdout",
     "output_type": "stream",
     "text": [
      "Enter the no of fibonacci sequences you want? 15\n",
      "The First 15 fibonacci series are:  [0, 1, 1, 2, 3, 5, 8, 13, 21, 34, 55, 89, 144, 233, 377]\n"
     ]
    }
   ],
   "source": [
    "s_count = int(input('Enter the no of fibonacci sequences you want? '))\n",
    "initial_list = [0,1]\n",
    "if s_count < 0:\n",
    "    print('Fibonacci Numbers are not available for Negative Numbers')\n",
    "elif s_count <= 2 and s_count >= 0:\n",
    "    print(initial_list)\n",
    "else:\n",
    "    for ins in range(s_count):\n",
    "        if ins >= 2:\n",
    "            initial_list.append(initial_list[ins-1]+initial_list[ins-2])\n",
    "    print(f'The First {s_count} fibonacci series are: ',initial_list)\n",
    "    "
   ]
  },
  {
   "cell_type": "markdown",
   "id": "a77d9e16",
   "metadata": {},
   "source": [
    "## 4.Write a Python Program to Check Armstrong Number?\n",
    "## Answer :"
   ]
  },
  {
   "cell_type": "code",
   "execution_count": 13,
   "id": "6b869a7a",
   "metadata": {},
   "outputs": [
    {
     "name": "stdout",
     "output_type": "stream",
     "text": [
      "Enter a number: 153\n",
      "it's armstrong number\n"
     ]
    }
   ],
   "source": [
    "def arm():\n",
    "    x = input('Enter a number: ')\n",
    "    sum = 0\n",
    "    for i in range(len(x)):\n",
    "        sum = sum + pow(int(x[i]),3)\n",
    "    if sum == int(x) :\n",
    "        print(\"it's armstrong number\")\n",
    "    else:\n",
    "        print(\"it's not a armstrong number\")\n",
    "arm()"
   ]
  },
  {
   "cell_type": "markdown",
   "id": "8f432592",
   "metadata": {},
   "source": [
    "## 5.Write a Python Program to Find Armstrong Number in an Interval?\n",
    "## Answer :"
   ]
  },
  {
   "cell_type": "code",
   "execution_count": 19,
   "id": "7878c460",
   "metadata": {},
   "outputs": [
    {
     "name": "stdout",
     "output_type": "stream",
     "text": [
      "Enter the Start of the Interval: 10\n",
      "Enter the End of the Interval: 500\n"
     ]
    }
   ],
   "source": [
    "def arm_rang(num,storage):\n",
    "    sum = 0\n",
    "    for i in range(len(num)):\n",
    "        sum = sum + pow(int(num[i]),3)\n",
    "    if sum == int(num) :\n",
    "        storage.append(int(num))\n",
    "        \n",
    "start = int(input('Enter the Start of the Interval: '))\n",
    "end = int(input('Enter the End of the Interval: '))\n",
    "list_of_armstrong = []\n",
    "\n",
    "for number in range(start,end+1):\n",
    "    arm_rang(str(number),list_of_armstrong)\n"
   ]
  },
  {
   "cell_type": "code",
   "execution_count": 20,
   "id": "7547933d",
   "metadata": {},
   "outputs": [
    {
     "data": {
      "text/plain": [
       "[153, 370, 371, 407]"
      ]
     },
     "execution_count": 20,
     "metadata": {},
     "output_type": "execute_result"
    }
   ],
   "source": [
    "list_of_armstrong"
   ]
  },
  {
   "cell_type": "markdown",
   "id": "2c14ee59",
   "metadata": {},
   "source": [
    "## 6.Write a Python Program to Find the Sum of Natural Numbers?\n",
    "## Answer :"
   ]
  },
  {
   "cell_type": "code",
   "execution_count": 11,
   "id": "3201bd64",
   "metadata": {},
   "outputs": [
    {
     "name": "stdout",
     "output_type": "stream",
     "text": [
      "Enter a number: 1000\n",
      "Sum of 1000 natural numbers is 500500.0\n"
     ]
    }
   ],
   "source": [
    "def sumOfNaturalNumbers(num):\n",
    "    sum = num*((num+1)/2)\n",
    "    print(f'Sum of {num} natural numbers is {sum}')\n",
    "    \n",
    "num = int(input('Enter a number: '))\n",
    "sumOfNaturalNumbers(num)"
   ]
  },
  {
   "cell_type": "code",
   "execution_count": null,
   "id": "2f638ee4",
   "metadata": {},
   "outputs": [],
   "source": []
  }
 ],
 "metadata": {
  "kernelspec": {
   "display_name": "Python 3 (ipykernel)",
   "language": "python",
   "name": "python3"
  },
  "language_info": {
   "codemirror_mode": {
    "name": "ipython",
    "version": 3
   },
   "file_extension": ".py",
   "mimetype": "text/x-python",
   "name": "python",
   "nbconvert_exporter": "python",
   "pygments_lexer": "ipython3",
   "version": "3.9.7"
  }
 },
 "nbformat": 4,
 "nbformat_minor": 5
}
