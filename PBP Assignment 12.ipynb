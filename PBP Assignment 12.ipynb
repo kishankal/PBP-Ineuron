{
 "cells": [
  {
   "cell_type": "markdown",
   "id": "37221a4d",
   "metadata": {},
   "source": [
    "## 1.Write a Python program to Extract Unique values dictionary values?\n",
    "## Answer :"
   ]
  },
  {
   "cell_type": "code",
   "execution_count": 1,
   "id": "0a81f386",
   "metadata": {},
   "outputs": [
    {
     "name": "stdout",
     "output_type": "stream",
     "text": [
      "['kishan', 'ranjan', 'bhavik']\n"
     ]
    }
   ],
   "source": [
    "def unique(l):\n",
    "    print(list(set(l.values())))\n",
    "\n",
    "    \n",
    "l={1:'kishan',2:'bhavik',3:'ranjan',4:'kishan'}\n",
    "unique(l)"
   ]
  },
  {
   "cell_type": "markdown",
   "id": "9f29a0a1",
   "metadata": {},
   "source": [
    "## 2.Write a Python program to find the sum of all items in a dictionary?\n",
    "## Answer :"
   ]
  },
  {
   "cell_type": "code",
   "execution_count": 5,
   "id": "e4d68985",
   "metadata": {},
   "outputs": [
    {
     "name": "stdout",
     "output_type": "stream",
     "text": [
      "Sum of All items:  300\n"
     ]
    }
   ],
   "source": [
    "in_dict = {'Apple':10,'Mango':20,'Banana':30,'Guava':40,'PineApple':200}\n",
    "print('Sum of All items: ',sum(in_dict.values()))"
   ]
  },
  {
   "cell_type": "markdown",
   "id": "27723034",
   "metadata": {},
   "source": [
    "## 3.Write a Python program to Merging two Dictionaries?\n",
    "## Answer :"
   ]
  },
  {
   "cell_type": "code",
   "execution_count": 10,
   "id": "7d2918c4",
   "metadata": {},
   "outputs": [
    {
     "name": "stdout",
     "output_type": "stream",
     "text": [
      "{1: 'kishan', 2: 'bhavik', 3: 'kalariya'}\n"
     ]
    }
   ],
   "source": [
    "def merging(x,y):\n",
    "    dic_1.update(dic_2)\n",
    "    print(dic_1)\n",
    "\n",
    "dic_1 = {1:'kishan'}\n",
    "dic_2 = {2:'bhavik',3:'kalariya'}\n",
    "merging(dic_1,dic_2)"
   ]
  },
  {
   "cell_type": "markdown",
   "id": "18d5b28f",
   "metadata": {},
   "source": [
    "## 4.Write a Python program to convert key-values list to flat dictionary?\n",
    "## Answer :"
   ]
  },
  {
   "cell_type": "code",
   "execution_count": 12,
   "id": "036bcf2e",
   "metadata": {},
   "outputs": [
    {
     "name": "stdout",
     "output_type": "stream",
     "text": [
      "{'a': 1, 'b': 2, 'c': 3, 'd': 4, 'e': 5, 'f': 6, 'g': 7}\n"
     ]
    }
   ],
   "source": [
    "l = [('a',1),('b',2),('c',3),('d',4),('e',5),('f',6),('g',7)]\n",
    "\n",
    "## method 1\n",
    "# print(dict(l))\n",
    "\n",
    "## method 2\n",
    "em_dict = {}\n",
    "for i in l:\n",
    "    em_dict[i[0]] = i[1]\n",
    "print(em_dict)"
   ]
  },
  {
   "cell_type": "markdown",
   "id": "30075ed6",
   "metadata": {},
   "source": [
    "## 5.Write a Python program to insertion at the beginning in OrderedDict?\n",
    "## Answer :"
   ]
  },
  {
   "cell_type": "code",
   "execution_count": 18,
   "id": "d969a1f2",
   "metadata": {},
   "outputs": [
    {
     "name": "stdout",
     "output_type": "stream",
     "text": [
      "OrderedDict([('india1', 'gujarat'), ('india2', 'maharastra'), ('india3', 'chennai'), ('india4', 'goa'), ('india5', 'west bengal')])\n",
      "\n",
      "\n",
      "OrderedDict([('india1', 'gujarat'), ('india2', 'maharastra'), ('india3', 'chennai'), ('india4', 'goa'), ('india5', 'west bengal'), ('INDIA', 'KEJRIWAL')])\n",
      "\n",
      "\n",
      "OrderedDict([('INDIA', 'KEJRIWAL'), ('india1', 'gujarat'), ('india2', 'maharastra'), ('india3', 'chennai'), ('india4', 'goa'), ('india5', 'west bengal')])\n"
     ]
    }
   ],
   "source": [
    "from collections import OrderedDict\n",
    "## let's first form a dictonary\n",
    "dic_1 = OrderedDict({'india1':'gujarat','india2':'maharastra','india3':'chennai','india4':'goa','india5':'west bengal'})\n",
    "print(dic_1)\n",
    "\n",
    "dic_2 = {'INDIA':'KEJRIWAL'}\n",
    "dic_1.update(dic_2)\n",
    "print('\\n')\n",
    "print(dic_1)\n",
    "\n",
    "dic_1.move_to_end('INDIA',last = False)\n",
    "print('\\n')\n",
    "print(dic_1)\n",
    "\n",
    "\n"
   ]
  },
  {
   "cell_type": "markdown",
   "id": "6baa2f04",
   "metadata": {},
   "source": [
    "## 6.Write a Python program to check order of character in string using OrderedDict()?\n",
    "## Answer :"
   ]
  },
  {
   "cell_type": "code",
   "execution_count": 37,
   "id": "c9a5ec31",
   "metadata": {},
   "outputs": [
    {
     "name": "stdout",
     "output_type": "stream",
     "text": [
      "{'a': 1, 'f': 2, 'd': 3, 'c': 4, 'b': 5, 'e': 6}\n",
      "OrderedDict([('a', 1), ('b', 5), ('c', 4), ('d', 3), ('e', 6), ('f', 2)])\n"
     ]
    }
   ],
   "source": [
    "l = {'a': 1, 'f': 2, 'd': 3, 'c': 4, 'b': 5, 'e': 6}\n",
    "print(l)\n",
    "\n",
    "result = OrderedDict(dict(sorted(l.items())))\n",
    "print(result)"
   ]
  },
  {
   "cell_type": "markdown",
   "id": "80fbf649",
   "metadata": {},
   "source": [
    "## 7.Write a Python program to sort Python Dictionaries by Key or Value?\n",
    "## Answer :"
   ]
  },
  {
   "cell_type": "code",
   "execution_count": 40,
   "id": "ea6a8e4a",
   "metadata": {},
   "outputs": [
    {
     "name": "stdout",
     "output_type": "stream",
     "text": [
      "Dictonary before sorting {'Mango': 100, 'PineApple': 22, 'Banana': 60, 'Grape': 13}\n",
      "\n",
      "sorting is on keys\n",
      "\n",
      "[('Banana', 60), ('Grape', 13), ('Mango', 100), ('PineApple', 22)]\n",
      "\n",
      "sorting is on values\n",
      "\n",
      "[('Grape', 13), ('PineApple', 22), ('Banana', 60), ('Mango', 100)]\n"
     ]
    }
   ],
   "source": [
    "d = {'Mango':100,'PineApple':22,'Banana':60,'Grape':13}\n",
    "print(f\"Dictonary before sorting {d}\")\n",
    "\n",
    "\n",
    "def sort(d,sort_type):\n",
    "    if sort_type == 'key':\n",
    "        print(\"\\nsorting is on keys\\n\")\n",
    "        print(sorted(d.items(), key = lambda x:x[0],reverse = False))\n",
    "    else:\n",
    "        print(\"\\nsorting is on values\\n\")\n",
    "        print(sorted(d.items(), key = lambda x:x[1],reverse = False))\n",
    "\n",
    "sort(d,'key')        \n",
    "sort(d,'value')\n",
    "    "
   ]
  },
  {
   "cell_type": "code",
   "execution_count": null,
   "id": "d2af77f8",
   "metadata": {},
   "outputs": [],
   "source": []
  }
 ],
 "metadata": {
  "kernelspec": {
   "display_name": "Python 3 (ipykernel)",
   "language": "python",
   "name": "python3"
  },
  "language_info": {
   "codemirror_mode": {
    "name": "ipython",
    "version": 3
   },
   "file_extension": ".py",
   "mimetype": "text/x-python",
   "name": "python",
   "nbconvert_exporter": "python",
   "pygments_lexer": "ipython3",
   "version": "3.9.7"
  }
 },
 "nbformat": 4,
 "nbformat_minor": 5
}
