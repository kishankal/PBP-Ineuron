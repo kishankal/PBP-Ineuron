{
 "cells": [
  {
   "cell_type": "code",
   "execution_count": 1,
   "id": "0fea3609",
   "metadata": {},
   "outputs": [],
   "source": [
    "import os\n",
    "os.chdir('E:\\\\Assignment DataScience\\\\Python Basic\\\\python programming basic\\\\output')"
   ]
  },
  {
   "cell_type": "markdown",
   "id": "bd447160",
   "metadata": {},
   "source": [
    "## 1.Write a Python program to convert kilometers to miles?\n",
    "## Answer :"
   ]
  },
  {
   "cell_type": "code",
   "execution_count": 11,
   "id": "cd3e9c3f",
   "metadata": {},
   "outputs": [
    {
     "name": "stdout",
     "output_type": "stream",
     "text": [
      "enter value for kilometer to change into miles : 100\n",
      "100.0 km is equal to 62.1 miles\n"
     ]
    }
   ],
   "source": [
    "def kilometer():\n",
    "    kilo = float(input('enter value for kilometer to change into miles : '))\n",
    "    #miles = 0.621*kilo\n",
    "    print('{} km is equal to {} miles'.format(kilo,0.621*kilo))\n",
    "kilometer()\n",
    "\n"
   ]
  },
  {
   "cell_type": "markdown",
   "id": "b7fa984c",
   "metadata": {},
   "source": [
    "## 2.Write a Python program to convert Celsius to Fahrenheit?\n",
    "## Answer :"
   ]
  },
  {
   "cell_type": "code",
   "execution_count": 13,
   "id": "7e87db2f",
   "metadata": {},
   "outputs": [
    {
     "name": "stdout",
     "output_type": "stream",
     "text": [
      "Enter temperature in celsius : 42\n",
      "42° Celsius is Equal to 107.60000000000001° Farenheit\n"
     ]
    }
   ],
   "source": [
    "def ctof():\n",
    "    celsius = int(input(\"Enter temperature in celsius : \"))\n",
    "    Farenheit = (celsius*(9/5))+32\n",
    "    print(\"{}° Celsius is Equal to {}° Farenheit\".format(celsius,Farenheit))\n",
    "    \n",
    "ctof()"
   ]
  },
  {
   "cell_type": "markdown",
   "id": "4b7ec879",
   "metadata": {},
   "source": [
    "## 3. Write a Python program to display calendar?\n",
    "## Answer :"
   ]
  },
  {
   "cell_type": "code",
   "execution_count": 14,
   "id": "5637eea5",
   "metadata": {},
   "outputs": [
    {
     "name": "stdout",
     "output_type": "stream",
     "text": [
      "Enter the year for which you want Calendar1999\n",
      "                                  1999\n",
      "\n",
      "      January                   February                   March\n",
      "Mo Tu We Th Fr Sa Su      Mo Tu We Th Fr Sa Su      Mo Tu We Th Fr Sa Su\n",
      "             1  2  3       1  2  3  4  5  6  7       1  2  3  4  5  6  7\n",
      " 4  5  6  7  8  9 10       8  9 10 11 12 13 14       8  9 10 11 12 13 14\n",
      "11 12 13 14 15 16 17      15 16 17 18 19 20 21      15 16 17 18 19 20 21\n",
      "18 19 20 21 22 23 24      22 23 24 25 26 27 28      22 23 24 25 26 27 28\n",
      "25 26 27 28 29 30 31                                29 30 31\n",
      "\n",
      "       April                      May                       June\n",
      "Mo Tu We Th Fr Sa Su      Mo Tu We Th Fr Sa Su      Mo Tu We Th Fr Sa Su\n",
      "          1  2  3  4                      1  2          1  2  3  4  5  6\n",
      " 5  6  7  8  9 10 11       3  4  5  6  7  8  9       7  8  9 10 11 12 13\n",
      "12 13 14 15 16 17 18      10 11 12 13 14 15 16      14 15 16 17 18 19 20\n",
      "19 20 21 22 23 24 25      17 18 19 20 21 22 23      21 22 23 24 25 26 27\n",
      "26 27 28 29 30            24 25 26 27 28 29 30      28 29 30\n",
      "                          31\n",
      "\n",
      "        July                     August                  September\n",
      "Mo Tu We Th Fr Sa Su      Mo Tu We Th Fr Sa Su      Mo Tu We Th Fr Sa Su\n",
      "          1  2  3  4                         1             1  2  3  4  5\n",
      " 5  6  7  8  9 10 11       2  3  4  5  6  7  8       6  7  8  9 10 11 12\n",
      "12 13 14 15 16 17 18       9 10 11 12 13 14 15      13 14 15 16 17 18 19\n",
      "19 20 21 22 23 24 25      16 17 18 19 20 21 22      20 21 22 23 24 25 26\n",
      "26 27 28 29 30 31         23 24 25 26 27 28 29      27 28 29 30\n",
      "                          30 31\n",
      "\n",
      "      October                   November                  December\n",
      "Mo Tu We Th Fr Sa Su      Mo Tu We Th Fr Sa Su      Mo Tu We Th Fr Sa Su\n",
      "             1  2  3       1  2  3  4  5  6  7             1  2  3  4  5\n",
      " 4  5  6  7  8  9 10       8  9 10 11 12 13 14       6  7  8  9 10 11 12\n",
      "11 12 13 14 15 16 17      15 16 17 18 19 20 21      13 14 15 16 17 18 19\n",
      "18 19 20 21 22 23 24      22 23 24 25 26 27 28      20 21 22 23 24 25 26\n",
      "25 26 27 28 29 30 31      29 30                     27 28 29 30 31\n",
      "\n"
     ]
    }
   ],
   "source": [
    "import calendar\n",
    "\n",
    "def calendar_of_year():\n",
    "    year = int(input('Enter the year for which you want Calendar'))\n",
    "    print(calendar.calendar(year))\n",
    "calendar_of_year()"
   ]
  },
  {
   "cell_type": "markdown",
   "id": "9616611f",
   "metadata": {},
   "source": [
    "## 4.Write a Python program to solve quadratic equation?\n",
    "## Answer :"
   ]
  },
  {
   "cell_type": "code",
   "execution_count": 20,
   "id": "1afa41bc",
   "metadata": {},
   "outputs": [
    {
     "name": "stdout",
     "output_type": "stream",
     "text": [
      "Enter first a value : 1\n",
      "Enter second b value : 2\n",
      "Enter third c value : 3\n",
      "Root1 is (-1-1.4142135623730951j) and Root2 is (-1+1.4142135623730951j)\n"
     ]
    }
   ],
   "source": [
    "import cmath,math\n",
    "\n",
    "def Quadratic_Equation():\n",
    "    a = int(input('Enter first a value : '))\n",
    "    b = int(input('Enter second b value : '))\n",
    "    c = int(input('Enter third c value : '))\n",
    "    \n",
    "    D = b*b - 4*a*c\n",
    "    \n",
    "    if D == 0:\n",
    "        root1 = -b/2*a\n",
    "        root2 = -b/2*a\n",
    "        print('Root1 is {} and Root2 is {}'.format(root1,root2))\n",
    "    \n",
    "    elif D > 0:\n",
    "        root1 = ((-b-(math.sqrt(D)))/2*a)\n",
    "        root2 = ((-b+(math.sqrt(D)))/2*a)\n",
    "        print('Root1 is {} and Root2 is {}'.format(root1,root2))\n",
    "    \n",
    "    else :\n",
    "        root1 = ((-b-(cmath.sqrt(D)))/2*a)\n",
    "        root2 = ((-b+(cmath.sqrt(D)))/2*a)\n",
    "        print('Root1 is {} and Root2 is {}'.format(root1,root2))\n",
    "\n",
    "Quadratic_Equation()\n",
    "    \n",
    "\n",
    "\n"
   ]
  },
  {
   "cell_type": "markdown",
   "id": "fa6b6d85",
   "metadata": {},
   "source": [
    "## 5.Write a Python program to swap two variables without temp variable?\n",
    "## Answer :"
   ]
  },
  {
   "cell_type": "code",
   "execution_count": 23,
   "id": "e8c08121",
   "metadata": {},
   "outputs": [
    {
     "name": "stdout",
     "output_type": "stream",
     "text": [
      "Enter first number: 15\n",
      "Enter second number: 10\n",
      "Before Swapping 15 and 10\n",
      "After Swapping 10 and 15\n"
     ]
    }
   ],
   "source": [
    "num_1 = int(input('Enter first number: '))\n",
    "num_2 = int(input('Enter second number: '))\n",
    "\n",
    "\n",
    "def swapNumbers(num_1,num_2):\n",
    "        print('Before Swapping {} and {}'.format(num_1,num_2))\n",
    "        num_1 = num_1+num_2\n",
    "        num_2 = num_1-num_2\n",
    "        num_1 = num_1-num_2\n",
    "        print('After Swapping {} and {}'.format(num_1,num_2))\n",
    "\n",
    "swapNumbers(num_1,num_2)"
   ]
  },
  {
   "cell_type": "code",
   "execution_count": null,
   "id": "0af0db77",
   "metadata": {},
   "outputs": [],
   "source": []
  }
 ],
 "metadata": {
  "kernelspec": {
   "display_name": "Python 3 (ipykernel)",
   "language": "python",
   "name": "python3"
  },
  "language_info": {
   "codemirror_mode": {
    "name": "ipython",
    "version": 3
   },
   "file_extension": ".py",
   "mimetype": "text/x-python",
   "name": "python",
   "nbconvert_exporter": "python",
   "pygments_lexer": "ipython3",
   "version": "3.9.7"
  }
 },
 "nbformat": 4,
 "nbformat_minor": 5
}
