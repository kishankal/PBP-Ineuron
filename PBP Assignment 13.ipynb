{
 "cells": [
  {
   "cell_type": "markdown",
   "id": "b72733b5",
   "metadata": {},
   "source": [
    "## 1.Write a program that calculates and prints the value according to the given formula:\n",
    "    Q = Square root of [(2 * C * D)/H]\n",
    "    Following are the fixed values of C and H:\n",
    "    C is 50. H is 30.\n",
    "    D is the variable whose values should be input to your program in a comma-separated sequence.\n",
    "    Example: Let us assume the following comma separated input sequence is given to the program:100,150,180\n",
    "    The output of the program should be: 18,22,24\n",
    "## Answer :"
   ]
  },
  {
   "cell_type": "code",
   "execution_count": 7,
   "id": "30285f90",
   "metadata": {},
   "outputs": [
    {
     "name": "stdout",
     "output_type": "stream",
     "text": [
      "Enter values for calculation : 4,5,6\n",
      "output 3,4,4\n"
     ]
    }
   ],
   "source": [
    "from math import sqrt\n",
    "C = 50\n",
    "H = 30\n",
    "D = eval(input(\"Enter values for calculation : \"))\n",
    "def op(D):\n",
    "    n = []\n",
    "    for i in  D:\n",
    "        Q = str(int(sqrt((2*C*i)/H)))\n",
    "        n.append(Q)\n",
    "    print(\"output {}\".format(','.join(n)))\n",
    "op(D)"
   ]
  },
  {
   "cell_type": "markdown",
   "id": "dcaf447d",
   "metadata": {},
   "source": [
    "## 2.Write a program which takes 2 digits, X,Y as input and generates a 2-dimensional array. The element value in the i-th row and j-th column of the array should be i*j.\n",
    "    Note: i=0,1.., X-1; j=0,1,¡Y-1.\n",
    "    Example: Suppose the following inputs are given to the program: 3,5\n",
    "    Then, the output of the program should be:[[0, 0, 0, 0, 0], [0, 1, 2, 3, 4], [0, 2, 4, 6, 8]]\n",
    "## Answer :"
   ]
  },
  {
   "cell_type": "code",
   "execution_count": 1,
   "id": "ae97e790",
   "metadata": {},
   "outputs": [
    {
     "name": "stdout",
     "output_type": "stream",
     "text": [
      "enter range last value of rows : 3\n",
      "enter range last value of columns : 5\n",
      "[[0, 0, 0, 0, 0], [0, 1, 2, 3, 4], [0, 2, 4, 6, 8]]\n"
     ]
    }
   ],
   "source": [
    "x = int(input(\"enter range last value of rows : \"))\n",
    "y = int(input(\"enter range last value of columns : \"))\n",
    "l = []\n",
    "for i in range(x):\n",
    "    l_1 = []\n",
    "    for j in range(y):\n",
    "        l_1.append(i*j)\n",
    "    l.append(l_1)\n",
    "print(l)    \n",
    "\n",
    "## do it again"
   ]
  },
  {
   "cell_type": "markdown",
   "id": "3253401c",
   "metadata": {},
   "source": [
    "## 3.Write a program that accepts a comma separated sequence of words as input and prints the words in a comma-separated sequence after sorting them alphabetically ?\n",
    "    Suppose the following input is supplied to the program: without,hello,bag,world\n",
    "    Then, the output should be: bag,hello,without,world\n",
    "## Answer :"
   ]
  },
  {
   "cell_type": "code",
   "execution_count": 3,
   "id": "e33e61ad",
   "metadata": {},
   "outputs": [
    {
     "name": "stdout",
     "output_type": "stream",
     "text": [
      "Enter the Input String: kishan,kalariya,ranjan\n",
      "Output: kalariya,kishan,ranjan\n"
     ]
    }
   ],
   "source": [
    "def sortString():\n",
    "    in_string = input(\"Enter the Input String: \")\n",
    "    out_string = ','.join(sorted(in_string.split(',')))\n",
    "    print(f'Output: {out_string}')\n",
    "    \n",
    "sortString()"
   ]
  },
  {
   "cell_type": "markdown",
   "id": "eda4b53d",
   "metadata": {},
   "source": [
    "## 4.Write a program that accepts a sequence of whitespace separated words as input and prints the words after removing all duplicate words and sorting them alphanumerically.\n",
    "    Suppose the following input is supplied to the program: hello world and practice makes perfect and hello world again\n",
    "    Then, the output should be: again and hello makes perfect practice world\n",
    "## Answer :\n"
   ]
  },
  {
   "cell_type": "code",
   "execution_count": 15,
   "id": "919d97e2",
   "metadata": {},
   "outputs": [
    {
     "name": "stdout",
     "output_type": "stream",
     "text": [
      "Enter a strng : kishan kalariya ab xyz kishan xyx xyz ab\n",
      "output : ab, kalariya, kishan, xyx, xyz\n"
     ]
    }
   ],
   "source": [
    "s = input('Enter a strng : ')\n",
    "\n",
    "def sort(x):\n",
    "    output = ', '.join(sorted(set(x.split())))\n",
    "    print(f\"output : {output}\")\n",
    "sort(s)"
   ]
  },
  {
   "cell_type": "markdown",
   "id": "823c3d21",
   "metadata": {},
   "source": [
    "## 5.Write a program that accepts a sentence and calculate the number of letters and digits.\n",
    "    Suppose the following input is supplied to the program: hello world! 123\n",
    "    Then, the output should be:\n",
    "    LETTERS 10\n",
    "    DIGITS 3\n",
    "## Answer :"
   ]
  },
  {
   "cell_type": "code",
   "execution_count": 19,
   "id": "65669121",
   "metadata": {},
   "outputs": [
    {
     "name": "stdout",
     "output_type": "stream",
     "text": [
      "Enter a sentence : hello! world 123@\n",
      "Total number of Digit : 3 and Total Number of Letter : 10\n"
     ]
    }
   ],
   "source": [
    "spec = \"[{(!~`@#$%^&*_<>.,':;\\|/'-+=)}]\"\n",
    "\n",
    "w = ' '\n",
    "sen  = input(\"Enter a sentence : \")\n",
    "\n",
    "def cal(x):\n",
    "    digit = 0\n",
    "    letter = 0\n",
    "    new_x = x.split()\n",
    "    for i in new_x:\n",
    "        for j in i:\n",
    "            if not j in spec:\n",
    "                if j in ['0','1','2','3','4','5','6','7','8','9']:\n",
    "                    digit += 1\n",
    "                else:\n",
    "                    letter = letter + 1\n",
    "    print(f\"Total number of Digit : {digit} and Total Number of Letter : {letter}\")\n",
    "cal(sen)"
   ]
  },
  {
   "cell_type": "markdown",
   "id": "fff04fd0",
   "metadata": {},
   "source": [
    "## 6.A website requires the users to input username and password to register. Write a program to check the validity of password input by users.\n",
    "    Following are the criteria for checking the password:\n",
    "\n",
    "    At least 1 letter between [a-z]\n",
    "    At least 1 number between [0-9]\n",
    "    At least 1 letter between [A-Z]\n",
    "    At least 1 character from [$#@]\n",
    "    Minimum length of transaction password: 6\n",
    "    Maximum length of transaction password: 12\n",
    "    Your program should accept a sequence of comma separated passwords and will check them according to the above criteria. Passwords that match the criteria are to be printed, each separated by a comma.\n",
    "\n",
    "    Example:\n",
    "    If the following passwords are given as input to the program: ABd1234@1,a F1#,2w3E*,2We3345\n",
    "    Then, the output of the program should be:ABd1234@1"
   ]
  },
  {
   "cell_type": "code",
   "execution_count": 42,
   "id": "8f5d26da",
   "metadata": {},
   "outputs": [
    {
     "name": "stdout",
     "output_type": "stream",
     "text": [
      "Kishan@199,kishan,KISHAN,kisH@n,19999\n",
      "['Kishan@199']\n"
     ]
    }
   ],
   "source": [
    "user_input = input()\n",
    "passwords = user_input.split(\",\") # list of all password\n",
    "special_chars = [\"$\",\"#\",\"@\"]\n",
    "valid = []\n",
    "\n",
    "def check(passwords):\n",
    "    for i in passwords:\n",
    "        \n",
    "        #check length\n",
    "        if len(i) <6 or len(i) > 12:\n",
    "            continue\n",
    "        \n",
    "        #check if has both uppercase and lower\n",
    "        if (i.isupper() or i.islower()):\n",
    "            continue\n",
    "        \n",
    "        #check for digit\n",
    "        num = any(c.isdigit() for c in i)\n",
    "        if (not num):\n",
    "            continue\n",
    "        #special_char check\n",
    "        sp_check = any(char in special_chars for char in i) \n",
    "        if(not sp_check):\n",
    "            continue\n",
    "        #after checking all condition\n",
    "        valid.append(i)\n",
    "    print(valid)\n",
    "check(passwords)\n",
    "            \n",
    "    "
   ]
  },
  {
   "cell_type": "code",
   "execution_count": null,
   "id": "a986a089",
   "metadata": {},
   "outputs": [],
   "source": []
  },
  {
   "cell_type": "code",
   "execution_count": null,
   "id": "1ef1019e",
   "metadata": {},
   "outputs": [],
   "source": []
  }
 ],
 "metadata": {
  "kernelspec": {
   "display_name": "Python 3 (ipykernel)",
   "language": "python",
   "name": "python3"
  },
  "language_info": {
   "codemirror_mode": {
    "name": "ipython",
    "version": 3
   },
   "file_extension": ".py",
   "mimetype": "text/x-python",
   "name": "python",
   "nbconvert_exporter": "python",
   "pygments_lexer": "ipython3",
   "version": "3.9.7"
  }
 },
 "nbformat": 4,
 "nbformat_minor": 5
}
