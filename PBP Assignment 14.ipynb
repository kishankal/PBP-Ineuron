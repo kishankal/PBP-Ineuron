{
 "cells": [
  {
   "cell_type": "markdown",
   "id": "db5aad5e",
   "metadata": {},
   "source": [
    "## 1. Define a class with a generator which can iterate the numbers, which are divisible by 7, between a given range 0 and n.\n",
    "## Answer :"
   ]
  },
  {
   "cell_type": "code",
   "execution_count": 9,
   "id": "48556b27",
   "metadata": {},
   "outputs": [
    {
     "name": "stdout",
     "output_type": "stream",
     "text": [
      "Enter range : 100\n",
      "0, 7, 14, 21, 28, 35, 42, 49, 56, 63, 70, 77, 84, 91, 98, "
     ]
    }
   ],
   "source": [
    "n = int(input(\"Enter range : \"))\n",
    "#l = []\n",
    "class generator:\n",
    "    def __init__(self,x):\n",
    "        self.x = x\n",
    "    \n",
    "    def gen(self):\n",
    "        for i in range(0,self.x+1):\n",
    "            if i%7 == 0:\n",
    "                yield i\n",
    "                \n",
    "Answer = generator(n)\n",
    "for j in Answer.gen():\n",
    "    print(j,end = ', ')\n"
   ]
  },
  {
   "cell_type": "markdown",
   "id": "d2187e13",
   "metadata": {},
   "source": [
    "## 2.Write a program to compute the frequency of the words from the input. The output should output after sorting the key alphanumerically.\n",
    "    Suppose the following input is supplied to the program:\n",
    "    New to Python or choosing between Python 2 and Python 3? Read Python 2 or Python 3.\n",
    "    Then, the output should be:\n",
    "    2:2 3.:1 3?:1 New:1 Python:5 Read:1 and:1 between:1 choosing:1 or:2 to:1\n",
    "## Answer :"
   ]
  },
  {
   "cell_type": "code",
   "execution_count": 13,
   "id": "43ec35fb",
   "metadata": {},
   "outputs": [
    {
     "name": "stdout",
     "output_type": "stream",
     "text": [
      "enter a sentence : New to Python or choosing between Python 2 and Python 3? Read Python 2 or Python 3.\n",
      "{'2': 2, '3.': 1, '3?': 1, 'New': 1, 'Python': 5, 'Read': 1, 'and': 1, 'between': 1, 'choosing': 1, 'or': 2, 'to': 1}\n"
     ]
    }
   ],
   "source": [
    "def checkFrequency():\n",
    "    s = input(\"enter a sentence : \")\n",
    "    words = sorted(s.split())\n",
    "    dic = {}\n",
    "    count = []\n",
    "    frequency = 0\n",
    "    \n",
    "    for i in words:\n",
    "        frequency = 0\n",
    "        if not i in count:\n",
    "            for j in words:\n",
    "                if i == j:\n",
    "                    frequency += 1\n",
    "            dic[i] = frequency\n",
    "    print(dic)\n",
    "checkFrequency()"
   ]
  },
  {
   "cell_type": "markdown",
   "id": "6c6e3559",
   "metadata": {},
   "source": [
    "## 3.Define a class Person and its two child classes: Male and Female. All classes have a method \"getGender\" which can print \"Male\" for Male class and \"Female\" for Female class. ?\n",
    "## Answer :"
   ]
  },
  {
   "cell_type": "code",
   "execution_count": 16,
   "id": "e2e955f1",
   "metadata": {},
   "outputs": [
    {
     "name": "stdout",
     "output_type": "stream",
     "text": [
      "Male\n",
      "Female\n"
     ]
    }
   ],
   "source": [
    "class person:\n",
    "    def getGender():\n",
    "        pass\n",
    "\n",
    "class Male(person):\n",
    "    def getGender():\n",
    "        print(\"Male\")\n",
    "class Female(person):\n",
    "    def getGender():\n",
    "        print(\"Female\")\n",
    "        \n",
    "Male.getGender()\n",
    "Female.getGender()"
   ]
  },
  {
   "cell_type": "markdown",
   "id": "a44b80c7",
   "metadata": {},
   "source": [
    "## 4.Please write a program to generate all sentences where subject is in [\"I\", \"You\"] and verb is in [\"Play\", \"Love\"] and the object is in [\"Hockey\",\"Football\"] ?\n",
    "## Answer :"
   ]
  },
  {
   "cell_type": "code",
   "execution_count": 18,
   "id": "b9dbad40",
   "metadata": {},
   "outputs": [
    {
     "name": "stdout",
     "output_type": "stream",
     "text": [
      "I Play Hockey\n",
      "I Play Football\n",
      "I Love Hockey\n",
      "I Love Football\n",
      "You Play Hockey\n",
      "You Play Football\n",
      "You Love Hockey\n",
      "You Love Football\n"
     ]
    }
   ],
   "source": [
    "def generateSentences():\n",
    "    subject = ['I','You']\n",
    "    verb = ['Play','Love']\n",
    "    object_ = ['Hockey','Football']\n",
    "    for s in subject:\n",
    "        for v in verb:\n",
    "            for o in object_:\n",
    "                print(f'{s} {v} {o}')\n",
    "                \n",
    "generateSentences()"
   ]
  },
  {
   "cell_type": "markdown",
   "id": "e2b48eb0",
   "metadata": {},
   "source": [
    "## 5.Please write a program to compress and decompress the string \"hello world!hello world!hello world!hello world!\"?\n",
    "## Answer :"
   ]
  },
  {
   "cell_type": "code",
   "execution_count": 27,
   "id": "92e5d98d",
   "metadata": {},
   "outputs": [
    {
     "name": "stdout",
     "output_type": "stream",
     "text": [
      "b'hello world!hello world!hello world!hello world!'\n"
     ]
    }
   ],
   "source": [
    "# Method 1\n",
    "import gzip\n",
    "s = b\"hello world!hello world!hello world!hello world!\"\n",
    "s = gzip.compress(s)\n",
    "\n",
    "# using gzip.decompress(s) method\n",
    "t = gzip.decompress(s)\n",
    "print(t)"
   ]
  },
  {
   "cell_type": "code",
   "execution_count": 24,
   "id": "60c2f507",
   "metadata": {},
   "outputs": [
    {
     "name": "stdout",
     "output_type": "stream",
     "text": [
      "hel2o world!hel2o world!hel2o world!hel2o world!\n",
      "hello world!hello world!hello world!hello world!\n"
     ]
    }
   ],
   "source": [
    "# Method 2\n",
    "def compress(in_string):\n",
    "    output = in_string[0]\n",
    "    count = 1\n",
    "    for ele in range(len(in_string)-1):\n",
    "        if in_string[ele] == in_string[ele+1]:\n",
    "            count +=1\n",
    "        else:\n",
    "            if count > 1:\n",
    "                output += str(count)\n",
    "            output += in_string[ele+1]\n",
    "            count = 1\n",
    "    if count > 1:\n",
    "        output += str(count)            \n",
    "    print(output)\n",
    "\n",
    "\n",
    "def decompress(in_string):\n",
    "    output = ''\n",
    "    for ele in range(len(in_string)):\n",
    "        if in_string[ele].isdigit():\n",
    "            output += output[-1]*(int(in_string[ele])-1)\n",
    "        else:\n",
    "            output += in_string[ele]\n",
    "    print(output)\n",
    "    \n",
    "        \n",
    "compress(\"hello world!hello world!hello world!hello world!\")\n",
    "decompress(\"hel2o world!hel2o world!hel2o world!hel2o world!\")\n",
    "     "
   ]
  },
  {
   "cell_type": "markdown",
   "id": "a57770c7",
   "metadata": {},
   "source": [
    "## 6.Please write a binary search function which searches an item in a sorted list. The function should return the index of element to be searched in the list ?\n",
    "## Answer :"
   ]
  },
  {
   "cell_type": "code",
   "execution_count": 30,
   "id": "9875f396",
   "metadata": {},
   "outputs": [
    {
     "name": "stdout",
     "output_type": "stream",
     "text": [
      "sorted list is [1, 2, 3, 4, 5, 6, 7, 8, 9, 10]\n",
      "enter a search index number : 6\n",
      "elemnet at index value 6 in [1, 2, 3, 4, 5, 6, 7, 8, 9, 10] is 7\n"
     ]
    }
   ],
   "source": [
    "def sort(l,n):\n",
    "    if n >=len(l):\n",
    "        print('Index vakue out of range ')\n",
    "    else:\n",
    "        print(f\"elemnet at index value {n} in {l} is {l[n]}\")\n",
    "        \n",
    "    \n",
    "    \n",
    "l = [1,2,3,4,5,6,7,8,9,10]\n",
    "print(f\"sorted list is {l}\")\n",
    "n = int(input(\"enter a search index number : \"))\n",
    "sort(l,n)"
   ]
  },
  {
   "cell_type": "code",
   "execution_count": null,
   "id": "522b4f2e",
   "metadata": {},
   "outputs": [],
   "source": []
  },
  {
   "cell_type": "code",
   "execution_count": null,
   "id": "0fc4e544",
   "metadata": {},
   "outputs": [],
   "source": []
  }
 ],
 "metadata": {
  "kernelspec": {
   "display_name": "Python 3 (ipykernel)",
   "language": "python",
   "name": "python3"
  },
  "language_info": {
   "codemirror_mode": {
    "name": "ipython",
    "version": 3
   },
   "file_extension": ".py",
   "mimetype": "text/x-python",
   "name": "python",
   "nbconvert_exporter": "python",
   "pygments_lexer": "ipython3",
   "version": "3.9.7"
  }
 },
 "nbformat": 4,
 "nbformat_minor": 5
}
