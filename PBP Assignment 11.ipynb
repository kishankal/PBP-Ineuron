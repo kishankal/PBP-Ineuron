{
 "cells": [
  {
   "cell_type": "markdown",
   "id": "94724941",
   "metadata": {},
   "source": [
    "## 1.Write a Python program to find words which are greater than given length k?\n",
    "## Answer :"
   ]
  },
  {
   "cell_type": "code",
   "execution_count": 5,
   "id": "5676a301",
   "metadata": {},
   "outputs": [
    {
     "name": "stdout",
     "output_type": "stream",
     "text": [
      "Enter string for spliting it : yywegfe efyfygweqf eefyfwee e8fyfeyf gegfe egeufb yg\n",
      "Enter length of a string for filter work : 6\n",
      "Words greater than 6 length in ['yywegfe', 'efyfygweqf', 'eefyfwee', 'e8fyfeyf', 'gegfe', 'egeufb', 'yg'] are ['yywegfe', 'efyfygweqf', 'eefyfwee', 'e8fyfeyf']\n"
     ]
    }
   ],
   "source": [
    "st = input(\"Enter string for spliting it : \")\n",
    "words = [i for i in st.split()]\n",
    "n = int(input(\"Enter length of a string for filter work : \"))\n",
    "storage = []\n",
    "\n",
    "\n",
    "def fil(n,ele,new_words) :\n",
    "    for i in ele:\n",
    "        if len(i) > n:\n",
    "            new_words.append(i)\n",
    "    print(f\"Words greater than {n} length in {ele} are {new_words}\")\n",
    "\n",
    "fil(n,words,storage)"
   ]
  },
  {
   "cell_type": "markdown",
   "id": "13c80c94",
   "metadata": {},
   "source": [
    "## 2.Write a Python program for removing i-th character from a string?\n",
    "## Answer :"
   ]
  },
  {
   "cell_type": "code",
   "execution_count": 6,
   "id": "ee872ff1",
   "metadata": {},
   "outputs": [
    {
     "name": "stdout",
     "output_type": "stream",
     "text": [
      "enter string : kishan kalariya\n",
      "Enter input for indexing : 3\n"
     ]
    },
    {
     "data": {
      "text/plain": [
       "'kisan kalariya'"
      ]
     },
     "execution_count": 6,
     "metadata": {},
     "output_type": "execute_result"
    }
   ],
   "source": [
    "st = input(\"enter string : \")\n",
    "n = int(input(\"Enter input for indexing : \"))\n",
    "def rem(st,n):\n",
    "    return st[:n] + st[n+1:len(st)]\n",
    "rem(st,n)\n"
   ]
  },
  {
   "cell_type": "markdown",
   "id": "4019f166",
   "metadata": {},
   "source": [
    "## 3.Write a Python program to split and join a string?\n",
    "## Answer :"
   ]
  },
  {
   "cell_type": "code",
   "execution_count": 7,
   "id": "de568a32",
   "metadata": {},
   "outputs": [
    {
     "name": "stdout",
     "output_type": "stream",
     "text": [
      "enter string : kishan kalariya\n",
      "Enter input for spliting : 6\n"
     ]
    },
    {
     "data": {
      "text/plain": [
       "'kalariyakishan '"
      ]
     },
     "execution_count": 7,
     "metadata": {},
     "output_type": "execute_result"
    }
   ],
   "source": [
    "st = input(\"enter string : \")\n",
    "n = int(input(\"Enter input for spliting : \"))\n",
    "def sp(st,n):\n",
    "    return st[n+1:len(st)] + st[0:n+1]\n",
    "sp(st,n)"
   ]
  },
  {
   "cell_type": "markdown",
   "id": "c58ff2b3",
   "metadata": {},
   "source": [
    "## 4.Write a Python to check if a given string is binary string or not?\n",
    "## Answer \"\""
   ]
  },
  {
   "cell_type": "code",
   "execution_count": 14,
   "id": "7313afec",
   "metadata": {},
   "outputs": [
    {
     "name": "stdout",
     "output_type": "stream",
     "text": [
      "Enter the string: 101011110101010\n",
      "101011110101010 is a binary string\n",
      "Enter the string: ki101\n",
      "ki101 is not a binart string\n"
     ]
    }
   ],
   "source": [
    "def checkBinary():\n",
    "    in_string = input('Enter the string: ')\n",
    "    stun = 0\n",
    "    for ele in in_string:\n",
    "        if ele in ['0','1']:\n",
    "            stun = 1\n",
    "            continue\n",
    "        else:\n",
    "            stun = 0\n",
    "            break\n",
    "    statement = 'is a binary string' if stun == 1 else 'is not a binart string' \n",
    "    print(f'{in_string} {statement}')\n",
    "\n",
    "checkBinary()\n",
    "checkBinary()"
   ]
  },
  {
   "cell_type": "markdown",
   "id": "39364d01",
   "metadata": {},
   "source": [
    "## 5.Write a Python program to find uncommon words from two Strings?\n",
    "## Answer :"
   ]
  },
  {
   "cell_type": "code",
   "execution_count": 22,
   "id": "9d89a6eb",
   "metadata": {},
   "outputs": [
    {
     "name": "stdout",
     "output_type": "stream",
     "text": [
      "enter a string : kishan bhavik kalariya rae true brother\n",
      "enter a string : kishan ranjan kalariya rae true friends\n",
      "['bhavik', 'brother', 'ranjan', 'friends']\n"
     ]
    }
   ],
   "source": [
    "def unco(s1,s2):\n",
    "    for i in s1:\n",
    "        if not i in s2:\n",
    "            a.append(i)\n",
    "    for j in s2:\n",
    "        if not j in s1:\n",
    "            a.append(j)\n",
    "    print(a)\n",
    "\n",
    "s1 = input(\"enter a string : \")\n",
    "s2 = input(\"enter a string : \")\n",
    "\n",
    "s1 = [p for p in s1.split()]\n",
    "s2 = [k for k in s2.split()]\n",
    "\n",
    "a=[]\n",
    "unco(s1,s2)"
   ]
  },
  {
   "cell_type": "markdown",
   "id": "a08c6959",
   "metadata": {},
   "source": [
    "## 6.Write a Python to find all duplicate characters in string?\n",
    "## Answer :"
   ]
  },
  {
   "cell_type": "code",
   "execution_count": 27,
   "id": "8c2a7d70",
   "metadata": {},
   "outputs": [
    {
     "name": "stdout",
     "output_type": "stream",
     "text": [
      "enter a string : kishankalariya\n",
      "total duplicate character are ['k', 'i', 'a']\n"
     ]
    }
   ],
   "source": [
    "def unco(s1):\n",
    "    \n",
    "    for j in s1:\n",
    "        count = 0\n",
    "        for i in s1:\n",
    "            if i == j:\n",
    "                count = count + 1\n",
    "                if count > 1:\n",
    "                    if not i in a:\n",
    "                        a.append(j)\n",
    "\n",
    "    print(f\"total duplicate character are {a}\")\n",
    "        \n",
    "\n",
    "            \n",
    "s1 = input(\"enter a string : \")\n",
    "a=[]\n",
    "unco(s1)"
   ]
  },
  {
   "cell_type": "markdown",
   "id": "4cf95562",
   "metadata": {},
   "source": [
    "## 7.Write a Python Program to check if a string contains any special character?\n",
    "## Answer :"
   ]
  },
  {
   "cell_type": "code",
   "execution_count": 32,
   "id": "3942f97a",
   "metadata": {},
   "outputs": [
    {
     "name": "stdout",
     "output_type": "stream",
     "text": [
      "enter a string : kishan@\n",
      "yes string kishan@ contain speacial character \n"
     ]
    }
   ],
   "source": [
    "spl_chars = '[@_!#$%^&*()<>?/\\|}{~:]'\n",
    "\n",
    "def sp(s1):\n",
    "    for i in s1:\n",
    "        count = 0\n",
    "        if i in spl_chars:\n",
    "            print(f\"yes string {s1} contain speacial character \")\n",
    "            count = 1\n",
    "            break\n",
    "    if count == 0:\n",
    "        print(f\"string {s1} doesn't contain special character \")\n",
    "        \n",
    "        \n",
    "s1 = input(\"enter a string : \")\n",
    "sp(s1)\n"
   ]
  },
  {
   "cell_type": "code",
   "execution_count": null,
   "id": "93a05fd7",
   "metadata": {},
   "outputs": [],
   "source": []
  }
 ],
 "metadata": {
  "kernelspec": {
   "display_name": "Python 3 (ipykernel)",
   "language": "python",
   "name": "python3"
  },
  "language_info": {
   "codemirror_mode": {
    "name": "ipython",
    "version": 3
   },
   "file_extension": ".py",
   "mimetype": "text/x-python",
   "name": "python",
   "nbconvert_exporter": "python",
   "pygments_lexer": "ipython3",
   "version": "3.9.7"
  }
 },
 "nbformat": 4,
 "nbformat_minor": 5
}
