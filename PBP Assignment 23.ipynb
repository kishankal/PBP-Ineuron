{
 "cells": [
  {
   "cell_type": "markdown",
   "id": "d1d83a71",
   "metadata": {},
   "source": [
    "## 1.Create a function that takes a number as an argument and returns True or False depending on whether the number is symmetrical or not. A number is symmetrical when it is the same as its reverse.\n",
    "    Examples:\n",
    "    is_symmetrical(7227) ➞ True\n",
    "    is_symmetrical(12567) ➞ False\n",
    "    is_symmetrical(44444444) ➞ True\n",
    "    is_symmetrical(9939) ➞ False\n",
    "    is_symmetrical(1112111) ➞ True"
   ]
  },
  {
   "cell_type": "code",
   "execution_count": 10,
   "id": "2ee406f3",
   "metadata": {},
   "outputs": [
    {
     "name": "stdout",
     "output_type": "stream",
     "text": [
      "Please Enter any Number: 7227\n",
      "is_symmetrical(7227) ➞ True\n",
      "Please Enter any Number: 12567\n",
      "is_symmetrical(12567) ➞ False\n",
      "Please Enter any Number: 44444444\n",
      "is_symmetrical(44444444) ➞ True\n",
      "Please Enter any Number: 9939\n",
      "is_symmetrical(9939) ➞ False\n",
      "Please Enter any Number: 1112111\n",
      "is_symmetrical(1112111) ➞ True\n"
     ]
    }
   ],
   "source": [
    "## Method 1\n",
    "\n",
    "def is_symmetrical(n):    \n",
    "    Reverse = 0\n",
    "    Number = n\n",
    "    while(Number > 0):    \n",
    "        Reminder = Number %10    \n",
    "        Reverse = (Reverse *10) + Reminder    \n",
    "        Number = Number //10\n",
    "    if Reverse == n:\n",
    "        print(f'is_symmetrical({n}) ➞ True')\n",
    "    else:\n",
    "        print(f'is_symmetrical({n}) ➞ False')\n",
    "        \n",
    "        \n",
    "for i in range(5):\n",
    "    n = int(input(\"Please Enter any Number: \"))\n",
    "    is_symmetrical(n)\n",
    "    \n",
    "        "
   ]
  },
  {
   "cell_type": "code",
   "execution_count": 11,
   "id": "7ed091bd",
   "metadata": {},
   "outputs": [
    {
     "name": "stdout",
     "output_type": "stream",
     "text": [
      "7227 ➞ True\n",
      "12567 ➞ False\n",
      "44444444 ➞ True\n",
      "9939 ➞ False\n",
      "1112111 ➞ True\n"
     ]
    }
   ],
   "source": [
    "# Method 2\n",
    "\n",
    "def is_symmetrical(n):\n",
    "    if str(n) == str(n)[::-1]:\n",
    "        print(f'{n} ➞ {True}')\n",
    "    else:\n",
    "        print(f'{n} ➞ {False}')\n",
    "\n",
    "is_symmetrical(7227)\n",
    "is_symmetrical(12567)\n",
    "is_symmetrical(44444444)\n",
    "is_symmetrical(9939)\n",
    "is_symmetrical(1112111)"
   ]
  },
  {
   "cell_type": "markdown",
   "id": "be476890",
   "metadata": {},
   "source": [
    "## 2.Given a string of numbers separated by a comma and space, return the product of the numbers.\n",
    "    Examples:\n",
    "    multiply_nums(\"2, 3\") ➞ 6\n",
    "    multiply_nums(\"1, 2, 3, 4\") ➞ 24\n",
    "    multiply_nums(\"54, 75, 453, 0\") ➞ 0\n",
    "    multiply_nums(\"10, -2\") ➞ -20"
   ]
  },
  {
   "cell_type": "code",
   "execution_count": 3,
   "id": "e028a141",
   "metadata": {},
   "outputs": [
    {
     "name": "stdout",
     "output_type": "stream",
     "text": [
      "2, 3 ➞ 6\n",
      "1, 2, 3, 4 ➞ 24\n",
      "54, 75, 453, 0 ➞ 0\n",
      "10, -2 ➞ -20\n"
     ]
    }
   ],
   "source": [
    "def multiply_nums(s):\n",
    "    out_string = s.replace(' ','').split(',')\n",
    "    out_num = 1\n",
    "    for ele in out_string:\n",
    "        out_num *= int(ele)\n",
    "    print(f'{s} ➞ {out_num}')\n",
    "    \n",
    "multiply_nums(\"2, 3\")\n",
    "multiply_nums(\"1, 2, 3, 4\")\n",
    "multiply_nums(\"54, 75, 453, 0\")\n",
    "multiply_nums(\"10, -2\")"
   ]
  },
  {
   "cell_type": "markdown",
   "id": "877d8987",
   "metadata": {},
   "source": [
    "## 3.Create a function that squares every digit of a number.\n",
    "    Examples:\n",
    "    square_digits(9119) ➞ 811181\n",
    "    square_digits(2483) ➞ 416649\n",
    "    square_digits(3212) ➞ 9414\n",
    "\n",
    "    Notes:\n",
    "    The function receives an integer and must return an integer."
   ]
  },
  {
   "cell_type": "code",
   "execution_count": 12,
   "id": "0707e661",
   "metadata": {},
   "outputs": [
    {
     "name": "stdout",
     "output_type": "stream",
     "text": [
      "9119\n",
      "square_digits(9119) ➞ 811181\n",
      "2483\n",
      "square_digits(2483) ➞ 416649\n",
      "3212\n",
      "square_digits(3212) ➞ 9414\n"
     ]
    }
   ],
   "source": [
    "def square_digits(n):\n",
    "    mul = [str(int(i)**2) for i in str(n)]\n",
    "    result = ''.join(mul)\n",
    "    print(f\"square_digits({n}) ➞ {result}\")\n",
    "for j in range(3):\n",
    "    n = int(input())\n",
    "    square_digits(n)"
   ]
  },
  {
   "cell_type": "markdown",
   "id": "b25aebaf",
   "metadata": {},
   "source": [
    "## 5.Create a function that returns the mean of all digits.\n",
    "    Examples:\n",
    "    mean(42) ➞ 3\n",
    "    mean(12345) ➞ 3\n",
    "    mean(666) ➞ 6\n",
    "\n",
    "    Notes:\n",
    "    1.The mean of all digits is the sum of digits / how many digits there are (e.g. mean of digits in 512 is (5+1+2)/3(number of digits) = 8/3=2).\n",
    "    2.The mean will always be an integer."
   ]
  },
  {
   "cell_type": "code",
   "execution_count": 3,
   "id": "ac100f9d",
   "metadata": {},
   "outputs": [
    {
     "name": "stdout",
     "output_type": "stream",
     "text": [
      "enter a number : 42\n",
      "mean(42) ➞ 3\n",
      "enter a number : 12345\n",
      "mean(12345) ➞ 3\n",
      "enter a number : 666\n",
      "mean(666) ➞ 6\n"
     ]
    }
   ],
   "source": [
    "def mean(n):\n",
    "    sum_ = 0\n",
    "    for i in range(len(str(n))):\n",
    "        sum_ += int(str(n)[i]) \n",
    "    print(f\"mean({n}) ➞ {(sum_)//len(str(n))}\")\n",
    "    \n",
    "for i in range(3):\n",
    "    n = int(input(\"enter a number : \"))\n",
    "    mean(n)"
   ]
  },
  {
   "cell_type": "markdown",
   "id": "49d1ff92",
   "metadata": {},
   "source": [
    "## 4.Create a function that sorts a list and removes all duplicate items from it.\n",
    "    Examples:\n",
    "    setify([1, 3, 3, 5, 5]) ➞ [1, 3, 5]\n",
    "    setify([4, 4, 4, 4]) ➞ [4]\n",
    "    setify([5, 7, 8, 9, 10, 15]) ➞ [5, 7, 8, 9, 10, 15]\n",
    "    setify([3, 3, 3, 2, 1]) ➞ [1, 2, 3]"
   ]
  },
  {
   "cell_type": "code",
   "execution_count": 8,
   "id": "3555c6b5",
   "metadata": {},
   "outputs": [
    {
     "name": "stdout",
     "output_type": "stream",
     "text": [
      "setify([1, 3, 3, 5, 5]) ➞ [1, 3, 5]\n",
      "setify([4, 4, 4, 4]) ➞ [4]\n",
      "setify([5, 7, 8, 9, 10, 15]) ➞ [5, 7, 8, 9, 10, 15]\n",
      "setify([3, 3, 3, 2, 1]) ➞ [1, 2, 3]\n"
     ]
    }
   ],
   "source": [
    "def setify(l):\n",
    "    print(f'setify({l}) ➞ {list(set(sorted(l)))}')\n",
    "\n",
    "setify([1, 3, 3, 5, 5]) \n",
    "setify([4, 4, 4, 4])\n",
    "setify([5, 7, 8, 9, 10, 15])\n",
    "setify([3, 3, 3, 2, 1])"
   ]
  },
  {
   "cell_type": "code",
   "execution_count": null,
   "id": "2a1c77ee",
   "metadata": {},
   "outputs": [],
   "source": []
  }
 ],
 "metadata": {
  "kernelspec": {
   "display_name": "Python 3 (ipykernel)",
   "language": "python",
   "name": "python3"
  },
  "language_info": {
   "codemirror_mode": {
    "name": "ipython",
    "version": 3
   },
   "file_extension": ".py",
   "mimetype": "text/x-python",
   "name": "python",
   "nbconvert_exporter": "python",
   "pygments_lexer": "ipython3",
   "version": "3.9.7"
  }
 },
 "nbformat": 4,
 "nbformat_minor": 5
}
