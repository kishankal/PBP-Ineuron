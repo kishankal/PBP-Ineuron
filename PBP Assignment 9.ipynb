{
 "cells": [
  {
   "cell_type": "code",
   "execution_count": 1,
   "id": "d135e513",
   "metadata": {},
   "outputs": [],
   "source": [
    "import os\n",
    "os.chdir('E:\\\\germany\\\\all work directory')"
   ]
  },
  {
   "cell_type": "markdown",
   "id": "dd86c2cc",
   "metadata": {},
   "source": [
    "## 1.Write a Python program to check if the given number is a Disarium Number?\n",
    "## Answer :"
   ]
  },
  {
   "cell_type": "code",
   "execution_count": 13,
   "id": "2d651931",
   "metadata": {},
   "outputs": [
    {
     "name": "stdout",
     "output_type": "stream",
     "text": [
      "Enter a number to check it's Disarium or not : 9\n",
      " The number 9 is Disarium Number\n"
     ]
    }
   ],
   "source": [
    "def Disarium():\n",
    "    num = input(\"Enter a number to check it's Disarium or not : \")\n",
    "    \n",
    "    sum = 0\n",
    "    for i in range(len(num)):\n",
    "        sum = sum + pow(int(list(num)[i]),i+1)\n",
    "    if sum == int(num):\n",
    "        print(f\" The number {num} is Disarium Number\")\n",
    "    else:\n",
    "        print(f\"The number {num} is not Disarium Number\")\n",
    "Disarium()"
   ]
  },
  {
   "cell_type": "markdown",
   "id": "b4173808",
   "metadata": {},
   "source": [
    "## 2.Write a Python program to print all disarium numbers between 1 to 100?\n",
    "## Answer :"
   ]
  },
  {
   "cell_type": "code",
   "execution_count": 10,
   "id": "1be6dfbf",
   "metadata": {},
   "outputs": [
    {
     "name": "stdout",
     "output_type": "stream",
     "text": [
      "enter a starting point : 1\n",
      "Enter ending point : 100\n",
      "[1, 2, 3, 4, 5, 6, 7, 8, 9, 89]\n"
     ]
    }
   ],
   "source": [
    "def Disarium(num,storage):\n",
    "    #num = input(\"Enter a number to check it's Disarium or not : \")\n",
    "    \n",
    "    sum = 0\n",
    "    for i in range(len(num)):\n",
    "        sum = sum + pow(int(list(num)[i]),i+1)\n",
    "    if sum == int(num):\n",
    "        storage.append(int(num))\n",
    "\n",
    "\n",
    "start = input(\"enter a starting point : \")\n",
    "end = input(\"Enter ending point : \")\n",
    "l = []\n",
    "\n",
    "for x in range(int(start),int(end)):\n",
    "    Disarium(str(x),l)\n",
    "    \n",
    "print(l)\n",
    "    \n",
    "    "
   ]
  },
  {
   "cell_type": "markdown",
   "id": "3a12637e",
   "metadata": {},
   "source": [
    "## 3.Write a Python program to check if the given number is Happy Number?\n",
    "## Answer :"
   ]
  },
  {
   "cell_type": "code",
   "execution_count": 27,
   "id": "6f2ff044",
   "metadata": {},
   "outputs": [
    {
     "name": "stdout",
     "output_type": "stream",
     "text": [
      "Enter a number to find it's happy number or not : 44\n",
      "it is happy number\n"
     ]
    }
   ],
   "source": [
    "def happy(num):\n",
    "    sum = 0\n",
    "    for i in range(len(num)):\n",
    "        sum = sum + pow(int(list(num)[i]),2)\n",
    "        \n",
    "    if sum <=9:\n",
    "        if sum == 1:\n",
    "            print(\"it is happy number\")\n",
    "        else:\n",
    "            print(\"it is not a happy number\")\n",
    "    else :\n",
    "        happy(str(sum))\n",
    "    \n",
    "num = input(\"Enter a number to find it's happy number or not : \")\n",
    "happy(num)"
   ]
  },
  {
   "cell_type": "markdown",
   "id": "254ac43f",
   "metadata": {},
   "source": [
    "## 4.Write a Python program to print all happy numbers between 1 and 100?\n",
    "## Answer :"
   ]
  },
  {
   "cell_type": "code",
   "execution_count": 25,
   "id": "c5595b1d",
   "metadata": {},
   "outputs": [
    {
     "name": "stdout",
     "output_type": "stream",
     "text": [
      "enter starting number : 1\n",
      "enter ending number : 100\n",
      "[1, 7, 10, 13, 19, 23, 28, 31, 32, 44, 49, 68, 70, 79, 82, 86, 91, 94, 97]\n"
     ]
    }
   ],
   "source": [
    "def happy(num,storage,n):\n",
    "    sum = 0\n",
    "    for i in range(len(num)):\n",
    "        sum = sum + pow(int(list(num)[i]),2)\n",
    "        \n",
    "    if sum <=9:\n",
    "        if sum == 1:\n",
    "            storage.append(n)\n",
    "    else :\n",
    "        happy(str(sum),storage,n)\n",
    "l = []\n",
    "\n",
    "start = int(input(\"enter starting number : \"))\n",
    "end = int(input(\"enter ending number : \"))\n",
    "for x in range(start,end):\n",
    "    happy(str(x),l,x)\n",
    "\n",
    "print(l)"
   ]
  },
  {
   "cell_type": "markdown",
   "id": "ee0994f3",
   "metadata": {},
   "source": [
    "## 5.Write a Python program to determine whether the given number is a Harshad Number?\n",
    "## Answer :"
   ]
  },
  {
   "cell_type": "code",
   "execution_count": 28,
   "id": "fea197f2",
   "metadata": {},
   "outputs": [
    {
     "name": "stdout",
     "output_type": "stream",
     "text": [
      "Enter a Number: 6804\n",
      "6804 is a Harshad Number\n",
      "Enter a Number: 20\n",
      "20 is a Harshad Number\n"
     ]
    }
   ],
   "source": [
    "def hars():\n",
    "    in_num = input('Enter a Number: ')\n",
    "    sum = 0\n",
    "    for item in range(len(in_num)):\n",
    "        sum = sum + int(in_num[item])\n",
    "    if int(in_num)%sum == 0:\n",
    "        print(f'{in_num} is a Harshad Number')\n",
    "    else:\n",
    "        print(f'{in_num} is a Not Harshad Number')\n",
    "hars()\n",
    "hars()"
   ]
  },
  {
   "cell_type": "markdown",
   "id": "f84dfc7a",
   "metadata": {},
   "source": [
    "## 6.Write a Python program to print all pronic numbers between 1 and 100?\n",
    "## Answer :"
   ]
  },
  {
   "cell_type": "code",
   "execution_count": 29,
   "id": "7ddffe4a",
   "metadata": {},
   "outputs": [
    {
     "name": "stdout",
     "output_type": "stream",
     "text": [
      "[0, 2, 6, 12, 20, 30, 42, 56, 72, 90, 110, 132, 156, 182, 210, 240, 272, 306, 342, 380, 420, 462, 506, 552, 600, 650, 702, 756, 812, 870, 930, 992, 1056, 1122, 1190, 1260, 1332, 1406, 1482, 1560, 1640, 1722, 1806, 1892, 1980, 2070, 2162, 2256, 2352, 2450, 2550, 2652, 2756, 2862, 2970, 3080, 3192, 3306, 3422, 3540, 3660, 3782, 3906, 4032, 4160, 4290, 4422, 4556, 4692, 4830, 4970, 5112, 5256, 5402, 5550, 5700, 5852, 6006, 6162, 6320, 6480, 6642, 6806, 6972, 7140, 7310, 7482, 7656, 7832, 8010, 8190, 8372, 8556, 8742, 8930, 9120, 9312, 9506, 9702, 9900, 10100]\n"
     ]
    }
   ],
   "source": [
    "def pro(start=0,end=100):\n",
    "    outputList = []\n",
    "    for ele in range(start,end+1):\n",
    "        outputList.append((ele)*(ele+1))\n",
    "    print(outputList)\n",
    "                   \n",
    "pro()"
   ]
  },
  {
   "cell_type": "code",
   "execution_count": null,
   "id": "404a320f",
   "metadata": {},
   "outputs": [],
   "source": []
  }
 ],
 "metadata": {
  "kernelspec": {
   "display_name": "Python 3 (ipykernel)",
   "language": "python",
   "name": "python3"
  },
  "language_info": {
   "codemirror_mode": {
    "name": "ipython",
    "version": 3
   },
   "file_extension": ".py",
   "mimetype": "text/x-python",
   "name": "python",
   "nbconvert_exporter": "python",
   "pygments_lexer": "ipython3",
   "version": "3.9.7"
  }
 },
 "nbformat": 4,
 "nbformat_minor": 5
}
