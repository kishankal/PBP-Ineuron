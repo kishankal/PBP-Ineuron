{
 "cells": [
  {
   "cell_type": "code",
   "execution_count": 1,
   "id": "f6889df8",
   "metadata": {},
   "outputs": [],
   "source": [
    "import os\n",
    "os.chdir('E:\\\\germany\\\\all work directory')"
   ]
  },
  {
   "cell_type": "markdown",
   "id": "83090dad",
   "metadata": {},
   "source": [
    "## 1.Write a Python Program to Add Two Matrices?\n",
    "## Answer :"
   ]
  },
  {
   "cell_type": "code",
   "execution_count": 20,
   "id": "e77ec50d",
   "metadata": {},
   "outputs": [
    {
     "name": "stdout",
     "output_type": "stream",
     "text": [
      "\n",
      "Addition of\n",
      " \n",
      "[[1 2 3]\n",
      " [4 5 6]]\n",
      "  \n",
      "and\n",
      "  \n",
      "[[5 9 1]\n",
      " [7 5 3]]\n",
      "  \n",
      "is\n",
      " \n",
      "[[ 6 11  4]\n",
      " [11 10  9]]\n"
     ]
    }
   ],
   "source": [
    "import numpy as np\n",
    "\n",
    "a = np.array([[1,2,3],[4,5,6]])\n",
    "b = np.array([[5,9,1],[7,5,3]])\n",
    "\n",
    "print('\\nAddition of\\n \\n{}\\n  \\nand\\n  \\n{}\\n  \\nis\\n \\n{}'.format(a,b,np.add(a,b)))"
   ]
  },
  {
   "cell_type": "markdown",
   "id": "59f351e7",
   "metadata": {},
   "source": [
    "## 2.Write a Python Program to Multiply Two Matrices?\n",
    "## Answer :"
   ]
  },
  {
   "cell_type": "code",
   "execution_count": 19,
   "id": "f21b5d37",
   "metadata": {},
   "outputs": [
    {
     "name": "stdout",
     "output_type": "stream",
     "text": [
      "\n",
      "Multiplication of\n",
      " \n",
      "[[1 4]\n",
      " [2 5]\n",
      " [3 6]]\n",
      " \n",
      "and\n",
      " \n",
      "[[5 9 1]\n",
      " [7 5 3]]\n",
      "  \n",
      "is\n",
      " \n",
      "[[33 29 13]\n",
      " [45 43 17]\n",
      " [57 57 21]]\n"
     ]
    }
   ],
   "source": [
    "a = np.array([[1,2,3],[4,5,6]]).T\n",
    "b = np.array([[5,9,1],[7,5,3]])\n",
    "\n",
    "print('\\nMultiplication of\\n \\n{}\\n \\nand\\n \\n{}\\n  \\nis\\n \\n{}'.format(a,b,np.dot(a,b)))"
   ]
  },
  {
   "cell_type": "markdown",
   "id": "9706779f",
   "metadata": {},
   "source": [
    "## 3.Write a Python Program to Transpose a Matrix?\n",
    "## Answer :"
   ]
  },
  {
   "cell_type": "code",
   "execution_count": 23,
   "id": "ee5f158a",
   "metadata": {},
   "outputs": [
    {
     "name": "stdout",
     "output_type": "stream",
     "text": [
      "original Matrix :\n",
      " \n",
      "[[1 2 3]\n",
      " [4 5 6]]\n",
      "\n",
      "Matrix after transpose :\n",
      " \n",
      "[[1 4]\n",
      " [2 5]\n",
      " [3 6]]\n",
      "\n"
     ]
    }
   ],
   "source": [
    "a = np.array([[1,2,3],[4,5,6]])\n",
    "x = a.copy()\n",
    "x = a.T\n",
    "print(\"original Matrix :\\n \\n{}\\n\".format(a))\n",
    "print(\"Matrix after transpose :\\n \\n{}\\n\".format(x))\n"
   ]
  },
  {
   "cell_type": "markdown",
   "id": "befe7cde",
   "metadata": {},
   "source": [
    "## 4.Write a Python Program to Sort Words in Alphabetic Order?\n",
    "## Answer :"
   ]
  },
  {
   "cell_type": "code",
   "execution_count": 28,
   "id": "843400dc",
   "metadata": {},
   "outputs": [
    {
     "name": "stdout",
     "output_type": "stream",
     "text": [
      "Enter a string for sorting in alphabetic order : Kishan Harshukh Ranjan Bhavik\n",
      "bhavik\n",
      "harshukh\n",
      "kishan\n",
      "ranjan\n"
     ]
    }
   ],
   "source": [
    "## take string as a user input\n",
    "st = input(\"Enter a string for sorting in alphabetic order : \")\n",
    "\n",
    "## split string and make all splited string into lower case\n",
    "words = [i.lower() for i in st.split()]\n",
    "\n",
    "words.sort()\n",
    "\n",
    "## print all word through for loop\n",
    "for i in words:\n",
    "    print(i)"
   ]
  },
  {
   "cell_type": "markdown",
   "id": "72211d75",
   "metadata": {},
   "source": [
    "## 5.Write a Python Program to Remove Punctuation From a String?\n",
    "## Answer :"
   ]
  },
  {
   "cell_type": "code",
   "execution_count": 32,
   "id": "77b70e06",
   "metadata": {},
   "outputs": [
    {
     "name": "stdout",
     "output_type": "stream",
     "text": [
      "Enter a String For Removing Punctuation : kis@#$n kis&*@\n",
      "kisnkis\n"
     ]
    }
   ],
   "source": [
    "## mention all punctuation\n",
    "p = \"\"\"!~`@#$%^&*(){}[]_=:;'\"<>,.?/|\\ \"\"\"\n",
    "\n",
    "## User input string\n",
    "st = input(\"Enter a String For Removing Punctuation : \")\n",
    "\n",
    "new_string = \"\"\n",
    "\n",
    "for i in st:\n",
    "    if i not in p:\n",
    "        new_string += i\n",
    "print(new_string)\n",
    "\n",
    "\n",
    "\n"
   ]
  },
  {
   "cell_type": "code",
   "execution_count": null,
   "id": "3336296b",
   "metadata": {},
   "outputs": [],
   "source": []
  }
 ],
 "metadata": {
  "kernelspec": {
   "display_name": "Python 3 (ipykernel)",
   "language": "python",
   "name": "python3"
  },
  "language_info": {
   "codemirror_mode": {
    "name": "ipython",
    "version": 3
   },
   "file_extension": ".py",
   "mimetype": "text/x-python",
   "name": "python",
   "nbconvert_exporter": "python",
   "pygments_lexer": "ipython3",
   "version": "3.9.7"
  }
 },
 "nbformat": 4,
 "nbformat_minor": 5
}
